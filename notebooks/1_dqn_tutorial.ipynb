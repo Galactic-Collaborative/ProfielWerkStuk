{
 "cells": [
  {
   "cell_type": "markdown",
   "metadata": {
    "colab_type": "text",
    "id": "klGNgWREsvQv"
   },
   "source": [
    "##### Copyright 2018 The TF-Agents Authors."
   ]
  },
  {
   "cell_type": "code",
   "execution_count": 1,
   "metadata": {
    "cellView": "form",
    "colab": {},
    "colab_type": "code",
    "execution": {
     "iopub.execute_input": "2020-10-09T12:22:28.940909Z",
     "iopub.status.busy": "2020-10-09T12:22:28.940281Z",
     "iopub.status.idle": "2020-10-09T12:22:28.942782Z",
     "shell.execute_reply": "2020-10-09T12:22:28.942212Z"
    },
    "id": "nQnmcm0oI1Q-"
   },
   "outputs": [],
   "source": [
    "#@title Licensed under the Apache License, Version 2.0 (the \"License\");\n",
    "# you may not use this file except in compliance with the License.\n",
    "# You may obtain a copy of the License at\n",
    "#\n",
    "# https://www.apache.org/licenses/LICENSE-2.0\n",
    "#\n",
    "# Unless required by applicable law or agreed to in writing, software\n",
    "# distributed under the License is distributed on an \"AS IS\" BASIS,\n",
    "# WITHOUT WARRANTIES OR CONDITIONS OF ANY KIND, either express or implied.\n",
    "# See the License for the specific language governing permissions and\n",
    "# limitations under the License."
   ]
  },
  {
   "cell_type": "markdown",
   "metadata": {
    "colab_type": "text",
    "id": "pmDI-h7cI0tI"
   },
   "source": [
    "# Train a Deep Q Network with TF-Agents\n",
    "\n",
    "<table class=\"tfo-notebook-buttons\" align=\"left\">\n",
    "  <td>\n",
    "    <a target=\"_blank\" href=\"https://www.tensorflow.org/agents/tutorials/1_dqn_tutorial\">\n",
    "    <img src=\"https://www.tensorflow.org/images/tf_logo_32px.png\" />\n",
    "    View on TensorFlow.org</a>\n",
    "  </td>\n",
    "  <td>\n",
    "    <a target=\"_blank\" href=\"https://colab.research.google.com/github/tensorflow/agents/blob/master/docs/tutorials/1_dqn_tutorial.ipynb\">\n",
    "    <img src=\"https://www.tensorflow.org/images/colab_logo_32px.png\" />\n",
    "    Run in Google Colab</a>\n",
    "  </td>\n",
    "  <td>\n",
    "    <a target=\"_blank\" href=\"https://github.com/tensorflow/agents/blob/master/docs/tutorials/1_dqn_tutorial.ipynb\">\n",
    "    <img src=\"https://www.tensorflow.org/images/GitHub-Mark-32px.png\" />\n",
    "    View source on GitHub</a>\n",
    "  </td>\n",
    "  <td>\n",
    "    <a href=\"https://storage.googleapis.com/tensorflow_docs/agents/docs/tutorials/1_dqn_tutorial.ipynb\"><img src=\"https://www.tensorflow.org/images/download_logo_32px.png\" />Download notebook</a>\n",
    "  </td>\n",
    "</table>"
   ]
  },
  {
   "cell_type": "markdown",
   "metadata": {
    "colab_type": "text",
    "id": "lsaQlK8fFQqH"
   },
   "source": [
    "## Introduction\n"
   ]
  },
  {
   "cell_type": "markdown",
   "metadata": {
    "colab_type": "text",
    "id": "cKOCZlhUgXVK"
   },
   "source": [
    "This example shows how to train a [DQN (Deep Q Networks)](https://storage.googleapis.com/deepmind-media/dqn/DQNNaturePaper.pdf)  agent on the Cartpole environment using the TF-Agents library.\n",
    "\n",
    "![Cartpole environment](https://raw.githubusercontent.com/tensorflow/agents/master/docs/tutorials/images/cartpole.png)\n",
    "\n",
    "It will walk you through all the components in a Reinforcement Learning (RL) pipeline for training, evaluation and data collection.\n",
    "\n",
    "\n",
    "To run this code live, click the 'Run in Google Colab' link above.\n"
   ]
  },
  {
   "cell_type": "markdown",
   "metadata": {
    "colab_type": "text",
    "id": "1u9QVVsShC9X"
   },
   "source": [
    "## Setup"
   ]
  },
  {
   "cell_type": "markdown",
   "metadata": {
    "colab_type": "text",
    "id": "kNrNXKI7bINP"
   },
   "source": [
    "If you haven't installed the following dependencies, run:"
   ]
  },
  {
   "cell_type": "code",
   "execution_count": 1,
   "metadata": {
    "colab": {},
    "colab_type": "code",
    "execution": {
     "iopub.execute_input": "2020-10-09T12:22:28.954798Z",
     "iopub.status.busy": "2020-10-09T12:22:28.951951Z",
     "iopub.status.idle": "2020-10-09T12:22:42.577260Z",
     "shell.execute_reply": "2020-10-09T12:22:42.576462Z"
    },
    "id": "KEHR2Ui-lo8O"
   },
   "outputs": [
    {
     "output_type": "stream",
     "name": "stderr",
     "text": [
      "'sudo' is not recognized as an internal or external command,\n",
      "operable program or batch file.\n",
      "ERROR: Invalid requirement: \"'gym==0.10.11'\"\n",
      "ERROR: Invalid requirement: \"'imageio==2.4.0'\"\n",
      "ERROR: Invalid requirement: \"'pyglet==1.3.2'\"\n",
      "ERROR: tensorflow 2.1.0 has requirement gast==0.2.2, but you'll have gast 0.4.0 which is incompatible.\n",
      "ERROR: Could not install packages due to an EnvironmentError: [WinError 5] Access is denied: 'c:\\\\users\\\\minec\\\\anaconda3\\\\envs\\\\profielwerkstuk\\\\lib\\\\site-packages\\\\google\\\\~rotobuf\\\\internal\\\\_api_implementation.cp37-win_amd64.pyd'\n",
      "Consider using the `--user` option or check the permissions.\n",
      "\n"
     ]
    }
   ],
   "source": [
    "!sudo apt-get install -y xvfb ffmpeg\n",
    "!pip install -q 'gym==0.10.11'\n",
    "!pip install -q 'imageio==2.4.0'\n",
    "!pip install -q PILLOW\n",
    "!pip install -q 'pyglet==1.3.2'\n",
    "!pip install -q pyvirtualdisplay\n",
    "!pip install -q tf-agents"
   ]
  },
  {
   "cell_type": "code",
   "execution_count": 2,
   "metadata": {
    "colab": {},
    "colab_type": "code",
    "execution": {
     "iopub.execute_input": "2020-10-09T12:22:42.584146Z",
     "iopub.status.busy": "2020-10-09T12:22:42.583168Z",
     "iopub.status.idle": "2020-10-09T12:22:48.814357Z",
     "shell.execute_reply": "2020-10-09T12:22:48.813845Z"
    },
    "id": "sMitx5qSgJk1"
   },
   "outputs": [
    {
     "output_type": "error",
     "ename": "ModuleNotFoundError",
     "evalue": "No module named 'imageio'",
     "traceback": [
      "\u001b[1;31m---------------------------------------------------------------------------\u001b[0m",
      "\u001b[1;31mModuleNotFoundError\u001b[0m                       Traceback (most recent call last)",
      "\u001b[1;32m<ipython-input-2-23f3f8152da8>\u001b[0m in \u001b[0;36m<module>\u001b[1;34m\u001b[0m\n\u001b[0;32m      2\u001b[0m \u001b[1;33m\u001b[0m\u001b[0m\n\u001b[0;32m      3\u001b[0m \u001b[1;32mimport\u001b[0m \u001b[0mbase64\u001b[0m\u001b[1;33m\u001b[0m\u001b[1;33m\u001b[0m\u001b[0m\n\u001b[1;32m----> 4\u001b[1;33m \u001b[1;32mimport\u001b[0m \u001b[0mimageio\u001b[0m\u001b[1;33m\u001b[0m\u001b[1;33m\u001b[0m\u001b[0m\n\u001b[0m\u001b[0;32m      5\u001b[0m \u001b[1;32mimport\u001b[0m \u001b[0mIPython\u001b[0m\u001b[1;33m\u001b[0m\u001b[1;33m\u001b[0m\u001b[0m\n\u001b[0;32m      6\u001b[0m \u001b[1;32mimport\u001b[0m \u001b[0mmatplotlib\u001b[0m\u001b[1;33m\u001b[0m\u001b[1;33m\u001b[0m\u001b[0m\n",
      "\u001b[1;31mModuleNotFoundError\u001b[0m: No module named 'imageio'"
     ]
    }
   ],
   "source": [
    "from __future__ import absolute_import, division, print_function\n",
    "\n",
    "import base64\n",
    "import imageio\n",
    "import IPython\n",
    "import matplotlib\n",
    "import matplotlib.pyplot as plt\n",
    "import numpy as np\n",
    "import PIL.Image\n",
    "import pyvirtualdisplay\n",
    "\n",
    "import tensorflow as tf\n",
    "\n",
    "from tf_agents.agents.dqn import dqn_agent\n",
    "from tf_agents.drivers import dynamic_step_driver\n",
    "from tf_agents.environments import suite_gym\n",
    "from tf_agents.environments import tf_py_environment\n",
    "from tf_agents.eval import metric_utils\n",
    "from tf_agents.metrics import tf_metrics\n",
    "from tf_agents.networks import q_network\n",
    "from tf_agents.policies import random_tf_policy\n",
    "from tf_agents.replay_buffers import tf_uniform_replay_buffer\n",
    "from tf_agents.trajectories import trajectory\n",
    "from tf_agents.utils import common"
   ]
  },
  {
   "cell_type": "code",
   "execution_count": 4,
   "metadata": {
    "colab": {},
    "colab_type": "code",
    "execution": {
     "iopub.execute_input": "2020-10-09T12:22:48.823808Z",
     "iopub.status.busy": "2020-10-09T12:22:48.818219Z",
     "iopub.status.idle": "2020-10-09T12:22:48.886169Z",
     "shell.execute_reply": "2020-10-09T12:22:48.886527Z"
    },
    "id": "J6HsdS5GbSjd"
   },
   "outputs": [],
   "source": [
    "tf.compat.v1.enable_v2_behavior()\n",
    "\n",
    "# Set up a virtual display for rendering OpenAI gym environments.\n",
    "display = pyvirtualdisplay.Display(visible=0, size=(1400, 900)).start()"
   ]
  },
  {
   "cell_type": "code",
   "execution_count": 5,
   "metadata": {
    "colab": {},
    "colab_type": "code",
    "execution": {
     "iopub.execute_input": "2020-10-09T12:22:48.892734Z",
     "iopub.status.busy": "2020-10-09T12:22:48.891993Z",
     "iopub.status.idle": "2020-10-09T12:22:48.895649Z",
     "shell.execute_reply": "2020-10-09T12:22:48.896076Z"
    },
    "id": "NspmzG4nP3b9"
   },
   "outputs": [
    {
     "data": {
      "text/plain": [
       "'2.3.1'"
      ]
     },
     "execution_count": 1,
     "metadata": {},
     "output_type": "execute_result"
    }
   ],
   "source": [
    "tf.version.VERSION"
   ]
  },
  {
   "cell_type": "markdown",
   "metadata": {
    "colab_type": "text",
    "id": "LmC0NDhdLIKY"
   },
   "source": [
    "## Hyperparameters"
   ]
  },
  {
   "cell_type": "code",
   "execution_count": 6,
   "metadata": {
    "colab": {},
    "colab_type": "code",
    "execution": {
     "iopub.execute_input": "2020-10-09T12:22:48.900927Z",
     "iopub.status.busy": "2020-10-09T12:22:48.899980Z",
     "iopub.status.idle": "2020-10-09T12:22:48.902298Z",
     "shell.execute_reply": "2020-10-09T12:22:48.901884Z"
    },
    "id": "HC1kNrOsLSIZ"
   },
   "outputs": [],
   "source": [
    "num_iterations = 20000 # @param {type:\"integer\"}\n",
    "\n",
    "initial_collect_steps = 100  # @param {type:\"integer\"} \n",
    "collect_steps_per_iteration = 1  # @param {type:\"integer\"}\n",
    "replay_buffer_max_length = 100000  # @param {type:\"integer\"}\n",
    "\n",
    "batch_size = 64  # @param {type:\"integer\"}\n",
    "learning_rate = 1e-3  # @param {type:\"number\"}\n",
    "log_interval = 200  # @param {type:\"integer\"}\n",
    "\n",
    "num_eval_episodes = 10  # @param {type:\"integer\"}\n",
    "eval_interval = 1000  # @param {type:\"integer\"}"
   ]
  },
  {
   "cell_type": "markdown",
   "metadata": {
    "colab_type": "text",
    "id": "VMsJC3DEgI0x"
   },
   "source": [
    "## Environment\n",
    "\n",
    "In Reinforcement Learning (RL), an environment represents the task or problem to be solved. Standard environments can be created in TF-Agents using `tf_agents.environments` suites. TF-Agents has suites for loading environments from sources such as the OpenAI Gym, Atari, and DM Control.\n",
    "\n",
    "Load the CartPole environment from the OpenAI Gym suite. "
   ]
  },
  {
   "cell_type": "code",
   "execution_count": 7,
   "metadata": {
    "colab": {},
    "colab_type": "code",
    "execution": {
     "iopub.execute_input": "2020-10-09T12:22:48.906845Z",
     "iopub.status.busy": "2020-10-09T12:22:48.905956Z",
     "iopub.status.idle": "2020-10-09T12:22:48.913686Z",
     "shell.execute_reply": "2020-10-09T12:22:48.913267Z"
    },
    "id": "pYEz-S9gEv2-"
   },
   "outputs": [],
   "source": [
    "env_name = 'CartPole-v0'\n",
    "env = suite_gym.load(env_name)"
   ]
  },
  {
   "cell_type": "markdown",
   "metadata": {
    "colab_type": "text",
    "id": "IIHYVBkuvPNw"
   },
   "source": [
    "You can render this environment to see how it looks. A free-swinging pole is attached to a cart.  The goal is to move the cart right or left in order to keep the pole pointing up."
   ]
  },
  {
   "cell_type": "code",
   "execution_count": 8,
   "metadata": {
    "colab": {},
    "colab_type": "code",
    "execution": {
     "iopub.execute_input": "2020-10-09T12:22:48.920641Z",
     "iopub.status.busy": "2020-10-09T12:22:48.919588Z",
     "iopub.status.idle": "2020-10-09T12:22:49.383594Z",
     "shell.execute_reply": "2020-10-09T12:22:49.383104Z"
    },
    "id": "RlO7WIQHu_7D"
   },
   "outputs": [
    {
     "data": {
      "image/png": "[encoded data removed]",
      "text/plain": [
       "<PIL.Image.Image image mode=RGB size=600x400 at 0x7FED601B6E48>"
      ]
     },
     "execution_count": 1,
     "metadata": {},
     "output_type": "execute_result"
    }
   ],
   "source": [
    "#@test {\"skip\": true}\n",
    "env.reset()\n",
    "PIL.Image.fromarray(env.render())"
   ]
  },
  {
   "cell_type": "markdown",
   "metadata": {
    "colab_type": "text",
    "id": "B9_lskPOey18"
   },
   "source": [
    "The `environment.step` method takes an `action` in the environment and returns a `TimeStep` tuple containing the next observation of the environment and the reward for the action.\n",
    "\n",
    "The `time_step_spec()` method returns the specification for the `TimeStep` tuple. Its `observation` attribute shows the shape of observations, the data types, and the ranges of allowed values. The `reward` attribute shows the same details for the reward.\n"
   ]
  },
  {
   "cell_type": "code",
   "execution_count": 9,
   "metadata": {
    "colab": {},
    "colab_type": "code",
    "execution": {
     "iopub.execute_input": "2020-10-09T12:22:49.393656Z",
     "iopub.status.busy": "2020-10-09T12:22:49.392921Z",
     "iopub.status.idle": "2020-10-09T12:22:49.395392Z",
     "shell.execute_reply": "2020-10-09T12:22:49.395798Z"
    },
    "id": "exDv57iHfwQV"
   },
   "outputs": [
    {
     "name": "stdout",
     "output_type": "stream",
     "text": [
      "Observation Spec:\n",
      "BoundedArraySpec(shape=(4,), dtype=dtype('float32'), name='observation', minimum=[-4.8000002e+00 -3.4028235e+38 -4.1887903e-01 -3.4028235e+38], maximum=[4.8000002e+00 3.4028235e+38 4.1887903e-01 3.4028235e+38])\n"
     ]
    }
   ],
   "source": [
    "print('Observation Spec:')\n",
    "print(env.time_step_spec().observation)"
   ]
  },
  {
   "cell_type": "code",
   "execution_count": 10,
   "metadata": {
    "colab": {},
    "colab_type": "code",
    "execution": {
     "iopub.execute_input": "2020-10-09T12:22:49.400411Z",
     "iopub.status.busy": "2020-10-09T12:22:49.399658Z",
     "iopub.status.idle": "2020-10-09T12:22:49.402953Z",
     "shell.execute_reply": "2020-10-09T12:22:49.402335Z"
    },
    "id": "UxiSyCbBUQPi"
   },
   "outputs": [
    {
     "name": "stdout",
     "output_type": "stream",
     "text": [
      "Reward Spec:\n",
      "ArraySpec(shape=(), dtype=dtype('float32'), name='reward')\n"
     ]
    }
   ],
   "source": [
    "print('Reward Spec:')\n",
    "print(env.time_step_spec().reward)"
   ]
  },
  {
   "cell_type": "markdown",
   "metadata": {
    "colab_type": "text",
    "id": "b_lHcIcqUaqB"
   },
   "source": [
    "The `action_spec()` method returns the shape, data types, and allowed values of valid actions."
   ]
  },
  {
   "cell_type": "code",
   "execution_count": 11,
   "metadata": {
    "colab": {},
    "colab_type": "code",
    "execution": {
     "iopub.execute_input": "2020-10-09T12:22:49.407540Z",
     "iopub.status.busy": "2020-10-09T12:22:49.406677Z",
     "iopub.status.idle": "2020-10-09T12:22:49.409391Z",
     "shell.execute_reply": "2020-10-09T12:22:49.409829Z"
    },
    "id": "bttJ4uxZUQBr"
   },
   "outputs": [
    {
     "name": "stdout",
     "output_type": "stream",
     "text": [
      "Action Spec:\n",
      "BoundedArraySpec(shape=(), dtype=dtype('int64'), name='action', minimum=0, maximum=1)\n"
     ]
    }
   ],
   "source": [
    "print('Action Spec:')\n",
    "print(env.action_spec())"
   ]
  },
  {
   "cell_type": "markdown",
   "metadata": {
    "colab_type": "text",
    "id": "eJCgJnx3g0yY"
   },
   "source": [
    "In the Cartpole environment:\n",
    "\n",
    "-   `observation` is an array of 4 floats: \n",
    "    -   the position and velocity of the cart\n",
    "    -   the angular position and velocity of the pole \n",
    "-   `reward` is a scalar float value\n",
    "-   `action` is a scalar integer with only two possible values:\n",
    "    -   `0` — \"move left\"\n",
    "    -   `1` — \"move right\"\n"
   ]
  },
  {
   "cell_type": "code",
   "execution_count": 12,
   "metadata": {
    "colab": {},
    "colab_type": "code",
    "execution": {
     "iopub.execute_input": "2020-10-09T12:22:49.416902Z",
     "iopub.status.busy": "2020-10-09T12:22:49.416111Z",
     "iopub.status.idle": "2020-10-09T12:22:49.418869Z",
     "shell.execute_reply": "2020-10-09T12:22:49.419285Z"
    },
    "id": "V2UGR5t_iZX-"
   },
   "outputs": [
    {
     "name": "stdout",
     "output_type": "stream",
     "text": [
      "Time step:\n",
      "TimeStep(step_type=array(0, dtype=int32), reward=array(0., dtype=float32), discount=array(1., dtype=float32), observation=array([ 0.02260124,  0.01524773,  0.01023087, -0.00098117], dtype=float32))\n",
      "Next time step:\n",
      "TimeStep(step_type=array(1, dtype=int32), reward=array(1., dtype=float32), discount=array(1., dtype=float32), observation=array([ 0.0229062 ,  0.21022147,  0.01021125, -0.29041865], dtype=float32))\n"
     ]
    }
   ],
   "source": [
    "time_step = env.reset()\n",
    "print('Time step:')\n",
    "print(time_step)\n",
    "\n",
    "action = np.array(1, dtype=np.int32)\n",
    "\n",
    "next_time_step = env.step(action)\n",
    "print('Next time step:')\n",
    "print(next_time_step)"
   ]
  },
  {
   "cell_type": "markdown",
   "metadata": {
    "colab_type": "text",
    "id": "4JSc9GviWUBK"
   },
   "source": [
    "Usually two environments are instantiated: one for training and one for evaluation. "
   ]
  },
  {
   "cell_type": "code",
   "execution_count": 13,
   "metadata": {
    "colab": {},
    "colab_type": "code",
    "execution": {
     "iopub.execute_input": "2020-10-09T12:22:49.425611Z",
     "iopub.status.busy": "2020-10-09T12:22:49.424678Z",
     "iopub.status.idle": "2020-10-09T12:22:49.427083Z",
     "shell.execute_reply": "2020-10-09T12:22:49.426648Z"
    },
    "id": "N7brXNIGWXjC"
   },
   "outputs": [],
   "source": [
    "train_py_env = suite_gym.load(env_name)\n",
    "eval_py_env = suite_gym.load(env_name)"
   ]
  },
  {
   "cell_type": "markdown",
   "metadata": {
    "colab_type": "text",
    "id": "zuUqXAVmecTU"
   },
   "source": [
    "The Cartpole environment, like most environments, is written in pure Python. This is converted to TensorFlow using the `TFPyEnvironment` wrapper.\n",
    "\n",
    "The original environment's API uses Numpy arrays. The `TFPyEnvironment` converts these to `Tensors` to make it compatible with Tensorflow agents and policies.\n"
   ]
  },
  {
   "cell_type": "code",
   "execution_count": 14,
   "metadata": {
    "colab": {},
    "colab_type": "code",
    "execution": {
     "iopub.execute_input": "2020-10-09T12:22:49.431705Z",
     "iopub.status.busy": "2020-10-09T12:22:49.431138Z",
     "iopub.status.idle": "2020-10-09T12:22:49.438210Z",
     "shell.execute_reply": "2020-10-09T12:22:49.438625Z"
    },
    "id": "Xp-Y4mD6eDhF"
   },
   "outputs": [],
   "source": [
    "train_env = tf_py_environment.TFPyEnvironment(train_py_env)\n",
    "eval_env = tf_py_environment.TFPyEnvironment(eval_py_env)"
   ]
  },
  {
   "cell_type": "markdown",
   "metadata": {
    "colab_type": "text",
    "id": "E9lW_OZYFR8A"
   },
   "source": [
    "## Agent\n",
    "\n",
    "The algorithm used to solve an RL problem is represented by an `Agent`. TF-Agents provides standard implementations of a variety of `Agents`, including:\n",
    "\n",
    "-   [DQN](https://storage.googleapis.com/deepmind-media/dqn/DQNNaturePaper.pdf) (used in this tutorial)\n",
    "-   [REINFORCE](http://www-anw.cs.umass.edu/~barto/courses/cs687/williams92simple.pdf)\n",
    "-   [DDPG](https://arxiv.org/pdf/1509.02971.pdf)\n",
    "-   [TD3](https://arxiv.org/pdf/1802.09477.pdf)\n",
    "-   [PPO](https://arxiv.org/abs/1707.06347)\n",
    "-   [SAC](https://arxiv.org/abs/1801.01290).\n",
    "\n",
    "The DQN agent can be used in any environment which has a discrete action space.\n",
    "\n",
    "At the heart of a DQN Agent is a `QNetwork`, a neural network model that can learn to predict `QValues` (expected returns) for all actions, given an observation from the environment.\n",
    "\n",
    "Use `tf_agents.networks.q_network` to create a `QNetwork`, passing in the `observation_spec`, `action_spec`, and a tuple describing the number and size of the model's hidden layers.\n"
   ]
  },
  {
   "cell_type": "code",
   "execution_count": 15,
   "metadata": {
    "colab": {},
    "colab_type": "code",
    "execution": {
     "iopub.execute_input": "2020-10-09T12:22:49.447337Z",
     "iopub.status.busy": "2020-10-09T12:22:49.446715Z",
     "iopub.status.idle": "2020-10-09T12:22:49.463206Z",
     "shell.execute_reply": "2020-10-09T12:22:49.463574Z"
    },
    "id": "TgkdEPg_muzV"
   },
   "outputs": [],
   "source": [
    "fc_layer_params = (100,)\n",
    "\n",
    "q_net = q_network.QNetwork(\n",
    "    train_env.observation_spec(),\n",
    "    train_env.action_spec(),\n",
    "    fc_layer_params=fc_layer_params)"
   ]
  },
  {
   "cell_type": "markdown",
   "metadata": {
    "colab_type": "text",
    "id": "z62u55hSmviJ"
   },
   "source": [
    "Now use `tf_agents.agents.dqn.dqn_agent` to instantiate a `DqnAgent`. In addition to the `time_step_spec`, `action_spec` and the QNetwork, the agent constructor also requires an optimizer (in this case, `AdamOptimizer`), a loss function, and an integer step counter."
   ]
  },
  {
   "cell_type": "code",
   "execution_count": 16,
   "metadata": {
    "colab": {},
    "colab_type": "code",
    "execution": {
     "iopub.execute_input": "2020-10-09T12:22:50.795738Z",
     "iopub.status.busy": "2020-10-09T12:22:50.794991Z",
     "iopub.status.idle": "2020-10-09T12:22:51.362321Z",
     "shell.execute_reply": "2020-10-09T12:22:51.362728Z"
    },
    "id": "jbY4yrjTEyc9"
   },
   "outputs": [],
   "source": [
    "optimizer = tf.compat.v1.train.AdamOptimizer(learning_rate=learning_rate)\n",
    "\n",
    "train_step_counter = tf.Variable(0)\n",
    "\n",
    "agent = dqn_agent.DqnAgent(\n",
    "    train_env.time_step_spec(),\n",
    "    train_env.action_spec(),\n",
    "    q_network=q_net,\n",
    "    optimizer=optimizer,\n",
    "    td_errors_loss_fn=common.element_wise_squared_loss,\n",
    "    train_step_counter=train_step_counter)\n",
    "\n",
    "agent.initialize()"
   ]
  },
  {
   "cell_type": "markdown",
   "metadata": {
    "colab_type": "text",
    "id": "I0KLrEPwkn5x"
   },
   "source": [
    "## Policies\n",
    "\n",
    "A policy defines the way an agent acts in an environment. Typically, the goal of reinforcement learning is to train the underlying model until the policy produces the desired outcome.\n",
    "\n",
    "In this tutorial:\n",
    "\n",
    "-   The desired outcome is keeping the pole balanced upright over the cart.\n",
    "-   The policy returns an action (left or right) for each `time_step` observation.\n",
    "\n",
    "Agents contain two policies: \n",
    "\n",
    "-   `agent.policy` — The main policy that is used for evaluation and deployment.\n",
    "-   `agent.collect_policy` — A second policy that is used for data collection.\n"
   ]
  },
  {
   "cell_type": "code",
   "execution_count": 17,
   "metadata": {
    "colab": {},
    "colab_type": "code",
    "execution": {
     "iopub.execute_input": "2020-10-09T12:22:51.367011Z",
     "iopub.status.busy": "2020-10-09T12:22:51.366234Z",
     "iopub.status.idle": "2020-10-09T12:22:51.368520Z",
     "shell.execute_reply": "2020-10-09T12:22:51.368109Z"
    },
    "id": "BwY7StuMkuV4"
   },
   "outputs": [],
   "source": [
    "eval_policy = agent.policy\n",
    "collect_policy = agent.collect_policy"
   ]
  },
  {
   "cell_type": "markdown",
   "metadata": {
    "colab_type": "text",
    "id": "2Qs1Fl3dV0ae"
   },
   "source": [
    "Policies can be created independently of agents. For example, use `tf_agents.policies.random_tf_policy` to create a policy which will randomly select an action for each `time_step`."
   ]
  },
  {
   "cell_type": "code",
   "execution_count": 18,
   "metadata": {
    "colab": {},
    "colab_type": "code",
    "execution": {
     "iopub.execute_input": "2020-10-09T12:22:51.372522Z",
     "iopub.status.busy": "2020-10-09T12:22:51.371847Z",
     "iopub.status.idle": "2020-10-09T12:22:51.374279Z",
     "shell.execute_reply": "2020-10-09T12:22:51.373793Z"
    },
    "id": "HE37-UCIrE69"
   },
   "outputs": [],
   "source": [
    "random_policy = random_tf_policy.RandomTFPolicy(train_env.time_step_spec(),\n",
    "                                                train_env.action_spec())"
   ]
  },
  {
   "cell_type": "markdown",
   "metadata": {
    "colab_type": "text",
    "id": "dOlnlRRsUbxP"
   },
   "source": [
    "To get an action from a policy, call the `policy.action(time_step)` method. The `time_step` contains the observation from the environment. This method returns a `PolicyStep`, which is a named tuple with three components:\n",
    "\n",
    "-   `action` — the action to be taken (in this case, `0` or `1`)\n",
    "-   `state` — used for stateful (that is, RNN-based) policies\n",
    "-   `info` — auxiliary data, such as log probabilities of actions"
   ]
  },
  {
   "cell_type": "code",
   "execution_count": 19,
   "metadata": {
    "colab": {},
    "colab_type": "code",
    "execution": {
     "iopub.execute_input": "2020-10-09T12:22:51.379348Z",
     "iopub.status.busy": "2020-10-09T12:22:51.378742Z",
     "iopub.status.idle": "2020-10-09T12:22:51.381977Z",
     "shell.execute_reply": "2020-10-09T12:22:51.381541Z"
    },
    "id": "5gCcpXswVAxk"
   },
   "outputs": [],
   "source": [
    "example_environment = tf_py_environment.TFPyEnvironment(\n",
    "    suite_gym.load('CartPole-v0'))"
   ]
  },
  {
   "cell_type": "code",
   "execution_count": 20,
   "metadata": {
    "colab": {},
    "colab_type": "code",
    "execution": {
     "iopub.execute_input": "2020-10-09T12:22:51.385972Z",
     "iopub.status.busy": "2020-10-09T12:22:51.385329Z",
     "iopub.status.idle": "2020-10-09T12:22:51.388048Z",
     "shell.execute_reply": "2020-10-09T12:22:51.387603Z"
    },
    "id": "D4DHZtq3Ndis"
   },
   "outputs": [],
   "source": [
    "time_step = example_environment.reset()"
   ]
  },
  {
   "cell_type": "code",
   "execution_count": 21,
   "metadata": {
    "colab": {},
    "colab_type": "code",
    "execution": {
     "iopub.execute_input": "2020-10-09T12:22:51.391993Z",
     "iopub.status.busy": "2020-10-09T12:22:51.391375Z",
     "iopub.status.idle": "2020-10-09T12:22:51.396956Z",
     "shell.execute_reply": "2020-10-09T12:22:51.396481Z"
    },
    "id": "PRFqAUzpNaAW"
   },
   "outputs": [
    {
     "data": {
      "text/plain": [
       "PolicyStep(action=<tf.Tensor: shape=(1,), dtype=int64, numpy=array([1])>, state=(), info=())"
      ]
     },
     "execution_count": 1,
     "metadata": {},
     "output_type": "execute_result"
    }
   ],
   "source": [
    "random_policy.action(time_step)"
   ]
  },
  {
   "cell_type": "markdown",
   "metadata": {
    "colab_type": "text",
    "id": "94rCXQtbUbXv"
   },
   "source": [
    "## Metrics and Evaluation\n",
    "\n",
    "The most common metric used to evaluate a policy is the average return. The return is the sum of rewards obtained while running a policy in an environment for an episode. Several episodes are run, creating an average return.\n",
    "\n",
    "The following function computes the average return of a policy, given the policy, environment, and a number of episodes.\n"
   ]
  },
  {
   "cell_type": "code",
   "execution_count": 22,
   "metadata": {
    "colab": {},
    "colab_type": "code",
    "execution": {
     "iopub.execute_input": "2020-10-09T12:22:51.402315Z",
     "iopub.status.busy": "2020-10-09T12:22:51.401747Z",
     "iopub.status.idle": "2020-10-09T12:22:51.403523Z",
     "shell.execute_reply": "2020-10-09T12:22:51.403880Z"
    },
    "id": "bitzHo5_UbXy"
   },
   "outputs": [],
   "source": [
    "#@test {\"skip\": true}\n",
    "def compute_avg_return(environment, policy, num_episodes=10):\n",
    "\n",
    "  total_return = 0.0\n",
    "  for _ in range(num_episodes):\n",
    "\n",
    "    time_step = environment.reset()\n",
    "    episode_return = 0.0\n",
    "\n",
    "    while not time_step.is_last():\n",
    "      action_step = policy.action(time_step)\n",
    "      time_step = environment.step(action_step.action)\n",
    "      episode_return += time_step.reward\n",
    "    total_return += episode_return\n",
    "\n",
    "  avg_return = total_return / num_episodes\n",
    "  return avg_return.numpy()[0]\n",
    "\n",
    "\n",
    "# See also the metrics module for standard implementations of different metrics.\n",
    "# https://github.com/tensorflow/agents/tree/master/tf_agents/metrics"
   ]
  },
  {
   "cell_type": "markdown",
   "metadata": {
    "colab_type": "text",
    "id": "_snCVvq5Z8lJ"
   },
   "source": [
    "Running this computation on the `random_policy` shows a baseline performance in the environment."
   ]
  },
  {
   "cell_type": "code",
   "execution_count": 23,
   "metadata": {
    "colab": {},
    "colab_type": "code",
    "execution": {
     "iopub.execute_input": "2020-10-09T12:22:51.407981Z",
     "iopub.status.busy": "2020-10-09T12:22:51.407367Z",
     "iopub.status.idle": "2020-10-09T12:22:51.837370Z",
     "shell.execute_reply": "2020-10-09T12:22:51.837783Z"
    },
    "id": "9bgU6Q6BZ8Bp"
   },
   "outputs": [
    {
     "data": {
      "text/plain": [
       "21.6"
      ]
     },
     "execution_count": 1,
     "metadata": {},
     "output_type": "execute_result"
    }
   ],
   "source": [
    "compute_avg_return(eval_env, random_policy, num_eval_episodes)"
   ]
  },
  {
   "cell_type": "markdown",
   "metadata": {
    "colab_type": "text",
    "id": "NLva6g2jdWgr"
   },
   "source": [
    "## Replay Buffer\n",
    "\n",
    "The replay buffer keeps track of data collected from the environment. This tutorial uses `tf_agents.replay_buffers.tf_uniform_replay_buffer.TFUniformReplayBuffer`, as it is the most common. \n",
    "\n",
    "The constructor requires the specs for the data it will be collecting. This is available from the agent using the `collect_data_spec` method. The batch size and maximum buffer length are also required.\n"
   ]
  },
  {
   "cell_type": "code",
   "execution_count": 24,
   "metadata": {
    "colab": {},
    "colab_type": "code",
    "execution": {
     "iopub.execute_input": "2020-10-09T12:22:51.842367Z",
     "iopub.status.busy": "2020-10-09T12:22:51.841758Z",
     "iopub.status.idle": "2020-10-09T12:22:51.852496Z",
     "shell.execute_reply": "2020-10-09T12:22:51.851994Z"
    },
    "id": "vX2zGUWJGWAl"
   },
   "outputs": [],
   "source": [
    "replay_buffer = tf_uniform_replay_buffer.TFUniformReplayBuffer(\n",
    "    data_spec=agent.collect_data_spec,\n",
    "    batch_size=train_env.batch_size,\n",
    "    max_length=replay_buffer_max_length)"
   ]
  },
  {
   "cell_type": "markdown",
   "metadata": {
    "colab_type": "text",
    "id": "ZGNTDJpZs4NN"
   },
   "source": [
    "For most agents, `collect_data_spec` is a named tuple called `Trajectory`, containing the specs for observations, actions, rewards, and other items."
   ]
  },
  {
   "cell_type": "code",
   "execution_count": 25,
   "metadata": {
    "colab": {},
    "colab_type": "code",
    "execution": {
     "iopub.execute_input": "2020-10-09T12:22:51.857193Z",
     "iopub.status.busy": "2020-10-09T12:22:51.856533Z",
     "iopub.status.idle": "2020-10-09T12:22:51.859427Z",
     "shell.execute_reply": "2020-10-09T12:22:51.858861Z"
    },
    "id": "_IZ-3HcqgE1z"
   },
   "outputs": [
    {
     "data": {
      "text/plain": [
       "Trajectory(step_type=TensorSpec(shape=(), dtype=tf.int32, name='step_type'), observation=BoundedTensorSpec(shape=(4,), dtype=tf.float32, name='observation', minimum=array([-4.8000002e+00, -3.4028235e+38, -4.1887903e-01, -3.4028235e+38],\n",
       "      dtype=float32), maximum=array([4.8000002e+00, 3.4028235e+38, 4.1887903e-01, 3.4028235e+38],\n",
       "      dtype=float32)), action=BoundedTensorSpec(shape=(), dtype=tf.int64, name='action', minimum=array(0), maximum=array(1)), policy_info=(), next_step_type=TensorSpec(shape=(), dtype=tf.int32, name='step_type'), reward=TensorSpec(shape=(), dtype=tf.float32, name='reward'), discount=BoundedTensorSpec(shape=(), dtype=tf.float32, name='discount', minimum=array(0., dtype=float32), maximum=array(1., dtype=float32)))"
      ]
     },
     "execution_count": 1,
     "metadata": {},
     "output_type": "execute_result"
    }
   ],
   "source": [
    "agent.collect_data_spec"
   ]
  },
  {
   "cell_type": "code",
   "execution_count": 26,
   "metadata": {
    "colab": {},
    "colab_type": "code",
    "execution": {
     "iopub.execute_input": "2020-10-09T12:22:51.863272Z",
     "iopub.status.busy": "2020-10-09T12:22:51.862668Z",
     "iopub.status.idle": "2020-10-09T12:22:51.865260Z",
     "shell.execute_reply": "2020-10-09T12:22:51.864814Z"
    },
    "id": "sy6g1tGcfRlw"
   },
   "outputs": [
    {
     "data": {
      "text/plain": [
       "('step_type',\n",
       " 'observation',\n",
       " 'action',\n",
       " 'policy_info',\n",
       " 'next_step_type',\n",
       " 'reward',\n",
       " 'discount')"
      ]
     },
     "execution_count": 1,
     "metadata": {},
     "output_type": "execute_result"
    }
   ],
   "source": [
    "agent.collect_data_spec._fields"
   ]
  },
  {
   "cell_type": "markdown",
   "metadata": {
    "colab_type": "text",
    "id": "rVD5nQ9ZGo8_"
   },
   "source": [
    "## Data Collection\n",
    "\n",
    "Now execute the random policy in the environment for a few steps, recording the data in the replay buffer."
   ]
  },
  {
   "cell_type": "code",
   "execution_count": 27,
   "metadata": {
    "colab": {},
    "colab_type": "code",
    "execution": {
     "iopub.execute_input": "2020-10-09T12:22:51.871344Z",
     "iopub.status.busy": "2020-10-09T12:22:51.870331Z",
     "iopub.status.idle": "2020-10-09T12:22:52.273443Z",
     "shell.execute_reply": "2020-10-09T12:22:52.273872Z"
    },
    "id": "wr1KSAEGG4h9"
   },
   "outputs": [],
   "source": [
    "#@test {\"skip\": true}\n",
    "def collect_step(environment, policy, buffer):\n",
    "  time_step = environment.current_time_step()\n",
    "  action_step = policy.action(time_step)\n",
    "  next_time_step = environment.step(action_step.action)\n",
    "  traj = trajectory.from_transition(time_step, action_step, next_time_step)\n",
    "\n",
    "  # Add trajectory to the replay buffer\n",
    "  buffer.add_batch(traj)\n",
    "\n",
    "def collect_data(env, policy, buffer, steps):\n",
    "  for _ in range(steps):\n",
    "    collect_step(env, policy, buffer)\n",
    "\n",
    "collect_data(train_env, random_policy, replay_buffer, initial_collect_steps)\n",
    "\n",
    "# This loop is so common in RL, that we provide standard implementations. \n",
    "# For more details see the drivers module.\n",
    "# https://www.tensorflow.org/agents/api_docs/python/tf_agents/drivers"
   ]
  },
  {
   "cell_type": "markdown",
   "metadata": {
    "colab_type": "text",
    "id": "84z5pQJdoKxo"
   },
   "source": [
    "The replay buffer is now a collection of Trajectories."
   ]
  },
  {
   "cell_type": "code",
   "execution_count": 28,
   "metadata": {
    "colab": {},
    "colab_type": "code",
    "execution": {
     "iopub.execute_input": "2020-10-09T12:22:52.277863Z",
     "iopub.status.busy": "2020-10-09T12:22:52.277172Z",
     "iopub.status.idle": "2020-10-09T12:22:52.280061Z",
     "shell.execute_reply": "2020-10-09T12:22:52.279214Z"
    },
    "id": "4wZnLu2ViO4E"
   },
   "outputs": [],
   "source": [
    "# For the curious:\n",
    "# Uncomment to peel one of these off and inspect it.\n",
    "# iter(replay_buffer.as_dataset()).next()"
   ]
  },
  {
   "cell_type": "markdown",
   "metadata": {
    "colab_type": "text",
    "id": "TujU-PMUsKjS"
   },
   "source": [
    "The agent needs access to the replay buffer. This is provided by creating an iterable `tf.data.Dataset` pipeline which will feed data to the agent.\n",
    "\n",
    "Each row of the replay buffer only stores a single observation step. But since the DQN Agent needs both the current and next observation to compute the loss, the dataset pipeline will sample two adjacent rows for each item in the batch (`num_steps=2`).\n",
    "\n",
    "This dataset is also optimized by running parallel calls and prefetching data."
   ]
  },
  {
   "cell_type": "code",
   "execution_count": 29,
   "metadata": {
    "colab": {},
    "colab_type": "code",
    "execution": {
     "iopub.execute_input": "2020-10-09T12:22:52.284923Z",
     "iopub.status.busy": "2020-10-09T12:22:52.284264Z",
     "iopub.status.idle": "2020-10-09T12:22:53.023284Z",
     "shell.execute_reply": "2020-10-09T12:22:53.022710Z"
    },
    "id": "ba7bilizt_qW"
   },
   "outputs": [
    {
     "name": "stdout",
     "output_type": "stream",
     "text": [
      "WARNING:tensorflow:From /tmpfs/src/tf_docs_env/lib/python3.6/site-packages/tensorflow/python/autograph/operators/control_flow.py:1004: ReplayBuffer.get_next (from tf_agents.replay_buffers.replay_buffer) is deprecated and will be removed in a future version.\n",
      "Instructions for updating:\n",
      "Use `as_dataset(..., single_deterministic_pass=False) instead.\n"
     ]
    },
    {
     "data": {
      "text/plain": [
       "<PrefetchDataset shapes: (Trajectory(step_type=(64, 2), observation=(64, 2, 4), action=(64, 2), policy_info=(), next_step_type=(64, 2), reward=(64, 2), discount=(64, 2)), BufferInfo(ids=(64, 2), probabilities=(64,))), types: (Trajectory(step_type=tf.int32, observation=tf.float32, action=tf.int64, policy_info=(), next_step_type=tf.int32, reward=tf.float32, discount=tf.float32), BufferInfo(ids=tf.int64, probabilities=tf.float32))>"
      ]
     },
     "execution_count": 1,
     "metadata": {},
     "output_type": "execute_result"
    }
   ],
   "source": [
    "# Dataset generates trajectories with shape [Bx2x...]\n",
    "dataset = replay_buffer.as_dataset(\n",
    "    num_parallel_calls=3, \n",
    "    sample_batch_size=batch_size, \n",
    "    num_steps=2).prefetch(3)\n",
    "\n",
    "\n",
    "dataset"
   ]
  },
  {
   "cell_type": "code",
   "execution_count": 30,
   "metadata": {
    "colab": {},
    "colab_type": "code",
    "execution": {
     "iopub.execute_input": "2020-10-09T12:22:53.027404Z",
     "iopub.status.busy": "2020-10-09T12:22:53.026788Z",
     "iopub.status.idle": "2020-10-09T12:22:53.077497Z",
     "shell.execute_reply": "2020-10-09T12:22:53.076954Z"
    },
    "id": "K13AST-2ppOq"
   },
   "outputs": [
    {
     "name": "stdout",
     "output_type": "stream",
     "text": [
      "<tensorflow.python.data.ops.iterator_ops.OwnedIterator object at 0x7fed4470afd0>\n"
     ]
    }
   ],
   "source": [
    "iterator = iter(dataset)\n",
    "\n",
    "print(iterator)\n"
   ]
  },
  {
   "cell_type": "code",
   "execution_count": 31,
   "metadata": {
    "colab": {},
    "colab_type": "code",
    "execution": {
     "iopub.execute_input": "2020-10-09T12:22:53.080987Z",
     "iopub.status.busy": "2020-10-09T12:22:53.080325Z",
     "iopub.status.idle": "2020-10-09T12:22:53.082481Z",
     "shell.execute_reply": "2020-10-09T12:22:53.082040Z"
    },
    "id": "Th5w5Sff0b16"
   },
   "outputs": [],
   "source": [
    "# For the curious:\n",
    "# Uncomment to see what the dataset iterator is feeding to the agent.\n",
    "# Compare this representation of replay data \n",
    "# to the collection of individual trajectories shown earlier.\n",
    "\n",
    "# iterator.next()"
   ]
  },
  {
   "cell_type": "markdown",
   "metadata": {
    "colab_type": "text",
    "id": "hBc9lj9VWWtZ"
   },
   "source": [
    "## Training the agent\n",
    "\n",
    "Two things must happen during the training loop:\n",
    "\n",
    "-   collect data from the environment\n",
    "-   use that data to train the agent's neural network(s)\n",
    "\n",
    "This example also periodicially evaluates the policy and prints the current score.\n",
    "\n",
    "The following will take ~5 minutes to run."
   ]
  },
  {
   "cell_type": "code",
   "execution_count": 32,
   "metadata": {
    "colab": {},
    "colab_type": "code",
    "execution": {
     "iopub.execute_input": "2020-10-09T12:22:53.092553Z",
     "iopub.status.busy": "2020-10-09T12:22:53.091891Z",
     "iopub.status.idle": "2020-10-09T12:28:06.293093Z",
     "shell.execute_reply": "2020-10-09T12:28:06.292567Z"
    },
    "id": "0pTbJ3PeyF-u"
   },
   "outputs": [
    {
     "name": "stdout",
     "output_type": "stream",
     "text": [
      "WARNING:tensorflow:From /tmpfs/src/tf_docs_env/lib/python3.6/site-packages/tensorflow/python/util/dispatch.py:201: calling foldr_v2 (from tensorflow.python.ops.functional_ops) with back_prop=False is deprecated and will be removed in a future version.\n",
      "Instructions for updating:\n",
      "back_prop=False is deprecated. Consider using tf.stop_gradient instead.\n",
      "Instead of:\n",
      "results = tf.foldr(fn, elems, back_prop=False)\n",
      "Use:\n",
      "results = tf.nest.map_structure(tf.stop_gradient, tf.foldr(fn, elems))\n"
     ]
    },
    {
     "name": "stdout",
     "output_type": "stream",
     "text": [
      "step = 200: loss = 23.971179962158203\n"
     ]
    },
    {
     "name": "stdout",
     "output_type": "stream",
     "text": [
      "step = 400: loss = 16.704683303833008\n"
     ]
    },
    {
     "name": "stdout",
     "output_type": "stream",
     "text": [
      "step = 600: loss = 4.47831916809082\n"
     ]
    },
    {
     "name": "stdout",
     "output_type": "stream",
     "text": [
      "step = 800: loss = 22.284278869628906\n"
     ]
    },
    {
     "name": "stdout",
     "output_type": "stream",
     "text": [
      "step = 1000: loss = 9.407212257385254\n"
     ]
    },
    {
     "name": "stdout",
     "output_type": "stream",
     "text": [
      "step = 1000: Average Return = 22.399999618530273\n"
     ]
    },
    {
     "name": "stdout",
     "output_type": "stream",
     "text": [
      "step = 1200: loss = 50.882041931152344\n"
     ]
    },
    {
     "name": "stdout",
     "output_type": "stream",
     "text": [
      "step = 1400: loss = 64.36306762695312\n"
     ]
    },
    {
     "name": "stdout",
     "output_type": "stream",
     "text": [
      "step = 1600: loss = 81.06721496582031\n"
     ]
    },
    {
     "name": "stdout",
     "output_type": "stream",
     "text": [
      "step = 1800: loss = 14.682304382324219\n"
     ]
    },
    {
     "name": "stdout",
     "output_type": "stream",
     "text": [
      "step = 2000: loss = 23.132694244384766\n"
     ]
    },
    {
     "name": "stdout",
     "output_type": "stream",
     "text": [
      "step = 2000: Average Return = 37.20000076293945\n"
     ]
    },
    {
     "name": "stdout",
     "output_type": "stream",
     "text": [
      "step = 2200: loss = 11.398908615112305\n"
     ]
    },
    {
     "name": "stdout",
     "output_type": "stream",
     "text": [
      "step = 2400: loss = 15.055550575256348\n"
     ]
    },
    {
     "name": "stdout",
     "output_type": "stream",
     "text": [
      "step = 2600: loss = 14.741910934448242\n"
     ]
    },
    {
     "name": "stdout",
     "output_type": "stream",
     "text": [
      "step = 2800: loss = 15.771312713623047\n"
     ]
    },
    {
     "name": "stdout",
     "output_type": "stream",
     "text": [
      "step = 3000: loss = 17.033199310302734\n"
     ]
    },
    {
     "name": "stdout",
     "output_type": "stream",
     "text": [
      "step = 3000: Average Return = 49.099998474121094\n"
     ]
    },
    {
     "name": "stdout",
     "output_type": "stream",
     "text": [
      "step = 3200: loss = 47.628074645996094\n"
     ]
    },
    {
     "name": "stdout",
     "output_type": "stream",
     "text": [
      "step = 3400: loss = 28.386903762817383\n"
     ]
    },
    {
     "name": "stdout",
     "output_type": "stream",
     "text": [
      "step = 3600: loss = 12.820018768310547\n"
     ]
    },
    {
     "name": "stdout",
     "output_type": "stream",
     "text": [
      "step = 3800: loss = 8.513819694519043\n"
     ]
    },
    {
     "name": "stdout",
     "output_type": "stream",
     "text": [
      "step = 4000: loss = 41.961456298828125\n"
     ]
    },
    {
     "name": "stdout",
     "output_type": "stream",
     "text": [
      "step = 4000: Average Return = 122.69999694824219\n"
     ]
    },
    {
     "name": "stdout",
     "output_type": "stream",
     "text": [
      "step = 4200: loss = 21.830732345581055\n"
     ]
    },
    {
     "name": "stdout",
     "output_type": "stream",
     "text": [
      "step = 4400: loss = 65.9542007446289\n"
     ]
    },
    {
     "name": "stdout",
     "output_type": "stream",
     "text": [
      "step = 4600: loss = 50.89095687866211\n"
     ]
    },
    {
     "name": "stdout",
     "output_type": "stream",
     "text": [
      "step = 4800: loss = 29.666650772094727\n"
     ]
    },
    {
     "name": "stdout",
     "output_type": "stream",
     "text": [
      "step = 5000: loss = 10.545876502990723\n"
     ]
    },
    {
     "name": "stdout",
     "output_type": "stream",
     "text": [
      "step = 5000: Average Return = 114.30000305175781\n"
     ]
    },
    {
     "name": "stdout",
     "output_type": "stream",
     "text": [
      "step = 5200: loss = 10.088138580322266\n"
     ]
    },
    {
     "name": "stdout",
     "output_type": "stream",
     "text": [
      "step = 5400: loss = 22.00992202758789\n"
     ]
    },
    {
     "name": "stdout",
     "output_type": "stream",
     "text": [
      "step = 5600: loss = 72.86345672607422\n"
     ]
    },
    {
     "name": "stdout",
     "output_type": "stream",
     "text": [
      "step = 5800: loss = 20.130895614624023\n"
     ]
    },
    {
     "name": "stdout",
     "output_type": "stream",
     "text": [
      "step = 6000: loss = 7.348139762878418\n"
     ]
    },
    {
     "name": "stdout",
     "output_type": "stream",
     "text": [
      "step = 6000: Average Return = 133.39999389648438\n"
     ]
    },
    {
     "name": "stdout",
     "output_type": "stream",
     "text": [
      "step = 6200: loss = 82.72433471679688\n"
     ]
    },
    {
     "name": "stdout",
     "output_type": "stream",
     "text": [
      "step = 6400: loss = 25.444007873535156\n"
     ]
    },
    {
     "name": "stdout",
     "output_type": "stream",
     "text": [
      "step = 6600: loss = 139.33970642089844\n"
     ]
    },
    {
     "name": "stdout",
     "output_type": "stream",
     "text": [
      "step = 6800: loss = 16.38616180419922\n"
     ]
    },
    {
     "name": "stdout",
     "output_type": "stream",
     "text": [
      "step = 7000: loss = 8.287995338439941\n"
     ]
    },
    {
     "name": "stdout",
     "output_type": "stream",
     "text": [
      "step = 7000: Average Return = 156.5\n"
     ]
    },
    {
     "name": "stdout",
     "output_type": "stream",
     "text": [
      "step = 7200: loss = 5.057644367218018\n"
     ]
    },
    {
     "name": "stdout",
     "output_type": "stream",
     "text": [
      "step = 7400: loss = 50.89534378051758\n"
     ]
    },
    {
     "name": "stdout",
     "output_type": "stream",
     "text": [
      "step = 7600: loss = 27.254642486572266\n"
     ]
    },
    {
     "name": "stdout",
     "output_type": "stream",
     "text": [
      "step = 7800: loss = 52.435184478759766\n"
     ]
    },
    {
     "name": "stdout",
     "output_type": "stream",
     "text": [
      "step = 8000: loss = 6.562076568603516\n"
     ]
    },
    {
     "name": "stdout",
     "output_type": "stream",
     "text": [
      "step = 8000: Average Return = 121.5\n"
     ]
    },
    {
     "name": "stdout",
     "output_type": "stream",
     "text": [
      "step = 8200: loss = 10.63643741607666\n"
     ]
    },
    {
     "name": "stdout",
     "output_type": "stream",
     "text": [
      "step = 8400: loss = 50.55724334716797\n"
     ]
    },
    {
     "name": "stdout",
     "output_type": "stream",
     "text": [
      "step = 8600: loss = 68.72991180419922\n"
     ]
    },
    {
     "name": "stdout",
     "output_type": "stream",
     "text": [
      "step = 8800: loss = 199.4698028564453\n"
     ]
    },
    {
     "name": "stdout",
     "output_type": "stream",
     "text": [
      "step = 9000: loss = 297.74847412109375\n"
     ]
    },
    {
     "name": "stdout",
     "output_type": "stream",
     "text": [
      "step = 9000: Average Return = 197.89999389648438\n"
     ]
    },
    {
     "name": "stdout",
     "output_type": "stream",
     "text": [
      "step = 9200: loss = 22.64231300354004\n"
     ]
    },
    {
     "name": "stdout",
     "output_type": "stream",
     "text": [
      "step = 9400: loss = 11.30867862701416\n"
     ]
    },
    {
     "name": "stdout",
     "output_type": "stream",
     "text": [
      "step = 9600: loss = 13.854089736938477\n"
     ]
    },
    {
     "name": "stdout",
     "output_type": "stream",
     "text": [
      "step = 9800: loss = 80.9999008178711\n"
     ]
    },
    {
     "name": "stdout",
     "output_type": "stream",
     "text": [
      "step = 10000: loss = 385.2828369140625\n"
     ]
    },
    {
     "name": "stdout",
     "output_type": "stream",
     "text": [
      "step = 10000: Average Return = 198.0\n"
     ]
    },
    {
     "name": "stdout",
     "output_type": "stream",
     "text": [
      "step = 10200: loss = 403.8046569824219\n"
     ]
    },
    {
     "name": "stdout",
     "output_type": "stream",
     "text": [
      "step = 10400: loss = 83.03425598144531\n"
     ]
    },
    {
     "name": "stdout",
     "output_type": "stream",
     "text": [
      "step = 10600: loss = 160.1787567138672\n"
     ]
    },
    {
     "name": "stdout",
     "output_type": "stream",
     "text": [
      "step = 10800: loss = 319.04412841796875\n"
     ]
    },
    {
     "name": "stdout",
     "output_type": "stream",
     "text": [
      "step = 11000: loss = 100.59796142578125\n"
     ]
    },
    {
     "name": "stdout",
     "output_type": "stream",
     "text": [
      "step = 11000: Average Return = 200.0\n"
     ]
    },
    {
     "name": "stdout",
     "output_type": "stream",
     "text": [
      "step = 11200: loss = 974.8321533203125\n"
     ]
    },
    {
     "name": "stdout",
     "output_type": "stream",
     "text": [
      "step = 11400: loss = 298.2663269042969\n"
     ]
    },
    {
     "name": "stdout",
     "output_type": "stream",
     "text": [
      "step = 11600: loss = 16.23052978515625\n"
     ]
    },
    {
     "name": "stdout",
     "output_type": "stream",
     "text": [
      "step = 11800: loss = 26.330753326416016\n"
     ]
    },
    {
     "name": "stdout",
     "output_type": "stream",
     "text": [
      "step = 12000: loss = 538.9752807617188\n"
     ]
    },
    {
     "name": "stdout",
     "output_type": "stream",
     "text": [
      "step = 12000: Average Return = 200.0\n"
     ]
    },
    {
     "name": "stdout",
     "output_type": "stream",
     "text": [
      "step = 12200: loss = 32.422210693359375\n"
     ]
    },
    {
     "name": "stdout",
     "output_type": "stream",
     "text": [
      "step = 12400: loss = 230.4241180419922\n"
     ]
    },
    {
     "name": "stdout",
     "output_type": "stream",
     "text": [
      "step = 12600: loss = 327.36578369140625\n"
     ]
    },
    {
     "name": "stdout",
     "output_type": "stream",
     "text": [
      "step = 12800: loss = 221.0552978515625\n"
     ]
    },
    {
     "name": "stdout",
     "output_type": "stream",
     "text": [
      "step = 13000: loss = 36.00126647949219\n"
     ]
    },
    {
     "name": "stdout",
     "output_type": "stream",
     "text": [
      "step = 13000: Average Return = 200.0\n"
     ]
    },
    {
     "name": "stdout",
     "output_type": "stream",
     "text": [
      "step = 13200: loss = 224.20574951171875\n"
     ]
    },
    {
     "name": "stdout",
     "output_type": "stream",
     "text": [
      "step = 13400: loss = 252.47915649414062\n"
     ]
    },
    {
     "name": "stdout",
     "output_type": "stream",
     "text": [
      "step = 13600: loss = 655.738037109375\n"
     ]
    },
    {
     "name": "stdout",
     "output_type": "stream",
     "text": [
      "step = 13800: loss = 662.0720825195312\n"
     ]
    },
    {
     "name": "stdout",
     "output_type": "stream",
     "text": [
      "step = 14000: loss = 56.43755340576172\n"
     ]
    },
    {
     "name": "stdout",
     "output_type": "stream",
     "text": [
      "step = 14000: Average Return = 200.0\n"
     ]
    },
    {
     "name": "stdout",
     "output_type": "stream",
     "text": [
      "step = 14200: loss = 1747.84521484375\n"
     ]
    },
    {
     "name": "stdout",
     "output_type": "stream",
     "text": [
      "step = 14400: loss = 51.76509094238281\n"
     ]
    },
    {
     "name": "stdout",
     "output_type": "stream",
     "text": [
      "step = 14600: loss = 51.12700653076172\n"
     ]
    },
    {
     "name": "stdout",
     "output_type": "stream",
     "text": [
      "step = 14800: loss = 1120.146728515625\n"
     ]
    },
    {
     "name": "stdout",
     "output_type": "stream",
     "text": [
      "step = 15000: loss = 993.9840698242188\n"
     ]
    },
    {
     "name": "stdout",
     "output_type": "stream",
     "text": [
      "step = 15000: Average Return = 200.0\n"
     ]
    },
    {
     "name": "stdout",
     "output_type": "stream",
     "text": [
      "step = 15200: loss = 54.091712951660156\n"
     ]
    },
    {
     "name": "stdout",
     "output_type": "stream",
     "text": [
      "step = 15400: loss = 1946.548095703125\n"
     ]
    },
    {
     "name": "stdout",
     "output_type": "stream",
     "text": [
      "step = 15600: loss = 74.04914093017578\n"
     ]
    },
    {
     "name": "stdout",
     "output_type": "stream",
     "text": [
      "step = 15800: loss = 4848.8544921875\n"
     ]
    },
    {
     "name": "stdout",
     "output_type": "stream",
     "text": [
      "step = 16000: loss = 2509.5\n"
     ]
    },
    {
     "name": "stdout",
     "output_type": "stream",
     "text": [
      "step = 16000: Average Return = 200.0\n"
     ]
    },
    {
     "name": "stdout",
     "output_type": "stream",
     "text": [
      "step = 16200: loss = 280.95819091796875\n"
     ]
    },
    {
     "name": "stdout",
     "output_type": "stream",
     "text": [
      "step = 16400: loss = 74.34515380859375\n"
     ]
    },
    {
     "name": "stdout",
     "output_type": "stream",
     "text": [
      "step = 16600: loss = 71.5146255493164\n"
     ]
    },
    {
     "name": "stdout",
     "output_type": "stream",
     "text": [
      "step = 16800: loss = 65.942138671875\n"
     ]
    },
    {
     "name": "stdout",
     "output_type": "stream",
     "text": [
      "step = 17000: loss = 100.37063598632812\n"
     ]
    },
    {
     "name": "stdout",
     "output_type": "stream",
     "text": [
      "step = 17000: Average Return = 200.0\n"
     ]
    },
    {
     "name": "stdout",
     "output_type": "stream",
     "text": [
      "step = 17200: loss = 83.93265533447266\n"
     ]
    },
    {
     "name": "stdout",
     "output_type": "stream",
     "text": [
      "step = 17400: loss = 832.0823974609375\n"
     ]
    },
    {
     "name": "stdout",
     "output_type": "stream",
     "text": [
      "step = 17600: loss = 901.281982421875\n"
     ]
    },
    {
     "name": "stdout",
     "output_type": "stream",
     "text": [
      "step = 17800: loss = 3035.594970703125\n"
     ]
    },
    {
     "name": "stdout",
     "output_type": "stream",
     "text": [
      "step = 18000: loss = 1165.320068359375\n"
     ]
    },
    {
     "name": "stdout",
     "output_type": "stream",
     "text": [
      "step = 18000: Average Return = 200.0\n"
     ]
    },
    {
     "name": "stdout",
     "output_type": "stream",
     "text": [
      "step = 18200: loss = 87.855712890625\n"
     ]
    },
    {
     "name": "stdout",
     "output_type": "stream",
     "text": [
      "step = 18400: loss = 75.82250213623047\n"
     ]
    },
    {
     "name": "stdout",
     "output_type": "stream",
     "text": [
      "step = 18600: loss = 1363.5899658203125\n"
     ]
    },
    {
     "name": "stdout",
     "output_type": "stream",
     "text": [
      "step = 18800: loss = 68.51466369628906\n"
     ]
    },
    {
     "name": "stdout",
     "output_type": "stream",
     "text": [
      "step = 19000: loss = 101.25462341308594\n"
     ]
    },
    {
     "name": "stdout",
     "output_type": "stream",
     "text": [
      "step = 19000: Average Return = 200.0\n"
     ]
    },
    {
     "name": "stdout",
     "output_type": "stream",
     "text": [
      "step = 19200: loss = 773.2719116210938\n"
     ]
    },
    {
     "name": "stdout",
     "output_type": "stream",
     "text": [
      "step = 19400: loss = 117.0003890991211\n"
     ]
    },
    {
     "name": "stdout",
     "output_type": "stream",
     "text": [
      "step = 19600: loss = 3607.708740234375\n"
     ]
    },
    {
     "name": "stdout",
     "output_type": "stream",
     "text": [
      "step = 19800: loss = 4284.08203125\n"
     ]
    },
    {
     "name": "stdout",
     "output_type": "stream",
     "text": [
      "step = 20000: loss = 151.35198974609375\n"
     ]
    },
    {
     "name": "stdout",
     "output_type": "stream",
     "text": [
      "step = 20000: Average Return = 200.0\n"
     ]
    }
   ],
   "source": [
    "#@test {\"skip\": true}\n",
    "try:\n",
    "  %%time\n",
    "except:\n",
    "  pass\n",
    "\n",
    "# (Optional) Optimize by wrapping some of the code in a graph using TF function.\n",
    "agent.train = common.function(agent.train)\n",
    "\n",
    "# Reset the train step\n",
    "agent.train_step_counter.assign(0)\n",
    "\n",
    "# Evaluate the agent's policy once before training.\n",
    "avg_return = compute_avg_return(eval_env, agent.policy, num_eval_episodes)\n",
    "returns = [avg_return]\n",
    "\n",
    "for _ in range(num_iterations):\n",
    "\n",
    "  # Collect a few steps using collect_policy and save to the replay buffer.\n",
    "  collect_data(train_env, agent.collect_policy, replay_buffer, collect_steps_per_iteration)\n",
    "\n",
    "  # Sample a batch of data from the buffer and update the agent's network.\n",
    "  experience, unused_info = next(iterator)\n",
    "  train_loss = agent.train(experience).loss\n",
    "\n",
    "  step = agent.train_step_counter.numpy()\n",
    "\n",
    "  if step % log_interval == 0:\n",
    "    print('step = {0}: loss = {1}'.format(step, train_loss))\n",
    "\n",
    "  if step % eval_interval == 0:\n",
    "    avg_return = compute_avg_return(eval_env, agent.policy, num_eval_episodes)\n",
    "    print('step = {0}: Average Return = {1}'.format(step, avg_return))\n",
    "    returns.append(avg_return)"
   ]
  },
  {
   "cell_type": "markdown",
   "metadata": {
    "colab_type": "text",
    "id": "68jNcA_TiJDq"
   },
   "source": [
    "## Visualization\n"
   ]
  },
  {
   "cell_type": "markdown",
   "metadata": {
    "colab_type": "text",
    "id": "aO-LWCdbbOIC"
   },
   "source": [
    "### Plots\n",
    "\n",
    "Use `matplotlib.pyplot` to chart how the policy improved during training.\n",
    "\n",
    "One iteration of `Cartpole-v0` consists of 200 time steps. The environment gives a reward of `+1` for each step the pole stays up, so the maximum return for one episode is 200. The charts shows the return increasing towards that maximum each time it is evaluated during training. (It may be a little unstable and not increase monotonically each time.)"
   ]
  },
  {
   "cell_type": "code",
   "execution_count": 33,
   "metadata": {
    "colab": {},
    "colab_type": "code",
    "execution": {
     "iopub.execute_input": "2020-10-09T12:28:06.311392Z",
     "iopub.status.busy": "2020-10-09T12:28:06.309411Z",
     "iopub.status.idle": "2020-10-09T12:28:06.414896Z",
     "shell.execute_reply": "2020-10-09T12:28:06.414399Z"
    },
    "id": "NxtL1mbOYCVO"
   },
   "outputs": [
    {
     "data": {
      "text/plain": [
       "(1.0250000000000004, 250.0)"
      ]
     },
     "execution_count": 1,
     "metadata": {},
     "output_type": "execute_result"
    },
    {
     "data": {
      "image/png": "[encoded data removed]",
      "text/plain": [
       "<Figure size 432x288 with 1 Axes>"
      ]
     },
     "metadata": {
      "needs_background": "light"
     },
     "output_type": "display_data"
    }
   ],
   "source": [
    "#@test {\"skip\": true}\n",
    "\n",
    "iterations = range(0, num_iterations + 1, eval_interval)\n",
    "plt.plot(iterations, returns)\n",
    "plt.ylabel('Average Return')\n",
    "plt.xlabel('Iterations')\n",
    "plt.ylim(top=250)"
   ]
  },
  {
   "cell_type": "markdown",
   "metadata": {
    "colab_type": "text",
    "id": "M7-XpPP99Cy7"
   },
   "source": [
    "### Videos"
   ]
  },
  {
   "cell_type": "markdown",
   "metadata": {
    "colab_type": "text",
    "id": "9pGfGxSH32gn"
   },
   "source": [
    "Charts are nice. But more exciting is seeing an agent actually performing a task in an environment. \n",
    "\n",
    "First, create a function to embed videos in the notebook."
   ]
  },
  {
   "cell_type": "code",
   "execution_count": 34,
   "metadata": {
    "colab": {},
    "colab_type": "code",
    "execution": {
     "iopub.execute_input": "2020-10-09T12:28:06.419830Z",
     "iopub.status.busy": "2020-10-09T12:28:06.419256Z",
     "iopub.status.idle": "2020-10-09T12:28:06.421046Z",
     "shell.execute_reply": "2020-10-09T12:28:06.421414Z"
    },
    "id": "ULaGr8pvOKbl"
   },
   "outputs": [],
   "source": [
    "def embed_mp4(filename):\n",
    "  \"\"\"Embeds an mp4 file in the notebook.\"\"\"\n",
    "  video = open(filename,'rb').read()\n",
    "  b64 = base64.b64encode(video)\n",
    "  tag = '''\n",
    "  <video width=\"640\" height=\"480\" controls>\n",
    "    <source src=\"data:video/mp4;base64,{0}\" type=\"video/mp4\">\n",
    "  Your browser does not support the video tag.\n",
    "  </video>'''.format(b64.decode())\n",
    "\n",
    "  return IPython.display.HTML(tag)"
   ]
  },
  {
   "cell_type": "markdown",
   "metadata": {
    "colab_type": "text",
    "id": "9c_PH-pX4Pr5"
   },
   "source": [
    "Now iterate through a few episodes of the Cartpole game with the agent. The underlying Python environment (the one \"inside\" the TensorFlow environment wrapper) provides a `render()` method, which outputs an image of the environment state. These can be collected into a video."
   ]
  },
  {
   "cell_type": "code",
   "execution_count": 35,
   "metadata": {
    "colab": {},
    "colab_type": "code",
    "execution": {
     "iopub.execute_input": "2020-10-09T12:28:06.427323Z",
     "iopub.status.busy": "2020-10-09T12:28:06.426748Z",
     "iopub.status.idle": "2020-10-09T12:28:17.872537Z",
     "shell.execute_reply": "2020-10-09T12:28:17.872968Z"
    },
    "id": "owOVWB158NlF"
   },
   "outputs": [
    {
     "name": "stderr",
     "output_type": "stream",
     "text": [
      "WARNING:root:IMAGEIO FFMPEG_WRITER WARNING: input image is not divisible by macro_block_size=16, resizing from (400, 600) to (400, 608) to ensure video compatibility with most codecs and players. To prevent resizing, make your input image divisible by the macro_block_size or set the macro_block_size to None (risking incompatibility). You may also see a FFMPEG warning concerning speedloss due to data not being aligned.\n"
     ]
    },
    {
     "data": {
      "text/html": [
       "\n",
       "  <video width=\"640\" height=\"480\" controls>\n",
       "    <source src=\"data:video/mp4;base64,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\" type=\"video/mp4\">\n",
       "  Your browser does not support the video tag.\n",
       "  </video>"
      ],
      "text/plain": [
       "<IPython.core.display.HTML object>"
      ]
     },
     "execution_count": 1,
     "metadata": {},
     "output_type": "execute_result"
    }
   ],
   "source": [
    "def create_policy_eval_video(policy, filename, num_episodes=5, fps=30):\n",
    "  filename = filename + \".mp4\"\n",
    "  with imageio.get_writer(filename, fps=fps) as video:\n",
    "    for _ in range(num_episodes):\n",
    "      time_step = eval_env.reset()\n",
    "      video.append_data(eval_py_env.render())\n",
    "      while not time_step.is_last():\n",
    "        action_step = policy.action(time_step)\n",
    "        time_step = eval_env.step(action_step.action)\n",
    "        video.append_data(eval_py_env.render())\n",
    "  return embed_mp4(filename)\n",
    "\n",
    "\n",
    "\n",
    "\n",
    "create_policy_eval_video(agent.policy, \"trained-agent\")"
   ]
  },
  {
   "cell_type": "markdown",
   "metadata": {
    "colab_type": "text",
    "id": "povaAOcZygLw"
   },
   "source": [
    "For fun, compare the trained agent (above) to an agent moving randomly. (It does not do as well.)"
   ]
  },
  {
   "cell_type": "code",
   "execution_count": 36,
   "metadata": {
    "colab": {},
    "colab_type": "code",
    "execution": {
     "iopub.execute_input": "2020-10-09T12:28:17.878090Z",
     "iopub.status.busy": "2020-10-09T12:28:17.877331Z",
     "iopub.status.idle": "2020-10-09T12:28:19.041930Z",
     "shell.execute_reply": "2020-10-09T12:28:19.041391Z"
    },
    "id": "pJZIdC37yNH4"
   },
   "outputs": [
    {
     "name": "stderr",
     "output_type": "stream",
     "text": [
      "WARNING:root:IMAGEIO FFMPEG_WRITER WARNING: input image is not divisible by macro_block_size=16, resizing from (400, 600) to (400, 608) to ensure video compatibility with most codecs and players. To prevent resizing, make your input image divisible by the macro_block_size or set the macro_block_size to None (risking incompatibility). You may also see a FFMPEG warning concerning speedloss due to data not being aligned.\n"
     ]
    },
    {
     "data": {
      "text/html": [
       "\n",
       "  <video width=\"640\" height=\"480\" controls>\n",
       "    <source src=\"data:video/mp4;base64,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\" type=\"video/mp4\">\n",
       "  Your browser does not support the video tag.\n",
       "  </video>"
      ],
      "text/plain": [
       "<IPython.core.display.HTML object>"
      ]
     },
     "execution_count": 1,
     "metadata": {},
     "output_type": "execute_result"
    }
   ],
   "source": [
    "create_policy_eval_video(random_policy, \"random-agent\")"
   ]
  }
 ],
 "metadata": {
  "colab": {
   "collapsed_sections": [],
   "name": "DQN Tutorial.ipynb",
   "private_outputs": true,
   "provenance": [],
   "toc_visible": true
  },
  "kernelspec": {
   "display_name": "Python 3",
   "language": "python",
   "name": "python3"
  },
  "language_info": {
   "codemirror_mode": {
    "name": "ipython",
    "version": 3
   },
   "file_extension": ".py",
   "mimetype": "text/x-python",
   "name": "python",
   "nbconvert_exporter": "python",
   "pygments_lexer": "ipython3",
   "version": "3.7.6-final"
  },
  "pycharm": {
   "stem_cell": {
    "cell_type": "raw",
    "metadata": {
     "collapsed": false
    },
    "source": []
   }
  }
 },
 "nbformat": 4,
 "nbformat_minor": 0
}