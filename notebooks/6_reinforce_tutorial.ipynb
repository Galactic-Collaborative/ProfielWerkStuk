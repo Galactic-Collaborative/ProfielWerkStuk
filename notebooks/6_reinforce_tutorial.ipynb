{
 "cells": [
  {
   "cell_type": "markdown",
   "metadata": {
    "colab_type": "text",
    "id": "klGNgWREsvQv"
   },
   "source": [
    "##### Copyright 2018 The TF-Agents Authors."
   ]
  },
  {
   "cell_type": "code",
   "execution_count": 1,
   "metadata": {
    "cellView": "form",
    "colab": {},
    "colab_type": "code",
    "id": "nQnmcm0oI1Q-"
   },
   "outputs": [],
   "source": [
    "#@title Licensed under the Apache License, Version 2.0 (the \"License\");\n",
    "# you may not use this file except in compliance with the License.\n",
    "# You may obtain a copy of the License at\n",
    "#\n",
    "# https://www.apache.org/licenses/LICENSE-2.0\n",
    "#\n",
    "# Unless required by applicable law or agreed to in writing, software\n",
    "# distributed under the License is distributed on an \"AS IS\" BASIS,\n",
    "# WITHOUT WARRANTIES OR CONDITIONS OF ANY KIND, either express or implied.\n",
    "# See the License for the specific language governing permissions and\n",
    "# limitations under the License."
   ]
  },
  {
   "cell_type": "markdown",
   "metadata": {
    "colab_type": "text",
    "id": "HNtBC6Bbb1YU"
   },
   "source": [
    "# REINFORCE agent\n",
    "\n",
    "<table class=\"tfo-notebook-buttons\" align=\"left\">\n",
    "  <td>\n",
    "    <a target=\"_blank\" href=\"https://www.tensorflow.org/agents/tutorials/6_reinforce_tutorial\">\n",
    "    <img src=\"https://www.tensorflow.org/images/tf_logo_32px.png\" />\n",
    "    View on TensorFlow.org</a>\n",
    "  </td>\n",
    "  <td>\n",
    "    <a target=\"_blank\" href=\"https://colab.research.google.com/github/tensorflow/agents/blob/master/docs/tutorials/6_reinforce_tutorial.ipynb\">\n",
    "    <img src=\"https://www.tensorflow.org/images/colab_logo_32px.png\" />\n",
    "    Run in Google Colab</a>\n",
    "  </td>\n",
    "  <td>\n",
    "    <a target=\"_blank\" href=\"https://github.com/tensorflow/agents/blob/master/docs/tutorials/6_reinforce_tutorial.ipynb\">\n",
    "    <img src=\"https://www.tensorflow.org/images/GitHub-Mark-32px.png\" />\n",
    "    View source on GitHub</a>\n",
    "  </td>\n",
    "  <td>\n",
    "    <a href=\"https://storage.googleapis.com/tensorflow_docs/agents/docs/tutorials/6_reinforce_tutorial.ipynb\"><img src=\"https://www.tensorflow.org/images/download_logo_32px.png\" />Download notebook</a>\n",
    "  </td>\n",
    "</table>"
   ]
  },
  {
   "cell_type": "markdown",
   "metadata": {
    "colab_type": "text",
    "id": "ZOUOQOrFs3zn"
   },
   "source": [
    "## Introduction"
   ]
  },
  {
   "cell_type": "markdown",
   "metadata": {
    "colab_type": "text",
    "id": "cKOCZlhUgXVK"
   },
   "source": [
    "This example shows how to train a [REINFORCE](http://www-anw.cs.umass.edu/~barto/courses/cs687/williams92simple.pdf) agent on the Cartpole environment using the TF-Agents library, similar to the [DQN tutorial](1_dqn_tutorial.ipynb).\n",
    "\n",
    "![Cartpole environment](images/cartpole.png)\n",
    "\n",
    "We will walk you through all the components in a Reinforcement Learning (RL) pipeline for training, evaluation and data collection.\n"
   ]
  },
  {
   "cell_type": "markdown",
   "metadata": {
    "colab_type": "text",
    "id": "1u9QVVsShC9X"
   },
   "source": [
    "## Setup"
   ]
  },
  {
   "cell_type": "markdown",
   "metadata": {
    "colab_type": "text",
    "id": "I5PNmEzIb9t4"
   },
   "source": [
    "If you haven't installed the following dependencies, run:"
   ]
  },
  {
   "cell_type": "code",
   "execution_count": 2,
   "metadata": {
    "colab": {},
    "colab_type": "code",
    "id": "KEHR2Ui-lo8O"
   },
   "outputs": [
    {
     "name": "stdout",
     "output_type": "stream",
     "text": [
      "\r",
      "Reading package lists... 0%\r",
      "\r",
      "Reading package lists... 100%\r",
      "\r",
      "Reading package lists... Done\r",
      "\r\n",
      "\r",
      "Building dependency tree... 0%\r",
      "\r",
      "Building dependency tree... 0%\r"
     ]
    },
    {
     "name": "stdout",
     "output_type": "stream",
     "text": [
      "\r",
      "Building dependency tree... 50%\r",
      "\r",
      "Building dependency tree... 50%\r"
     ]
    },
    {
     "name": "stdout",
     "output_type": "stream",
     "text": [
      "\r",
      "Building dependency tree       \r",
      "\r\n",
      "\r",
      "Reading state information... 0%\r",
      "\r",
      "Reading state information... 0%\r",
      "\r",
      "Reading state information... Done\r",
      "\r\n",
      "ffmpeg is already the newest version (7:3.4.8-0ubuntu0.2).\r\n",
      "xvfb is already the newest version (2:1.19.6-1ubuntu4.4).\r\n"
     ]
    },
    {
     "name": "stdout",
     "output_type": "stream",
     "text": [
      "The following packages were automatically installed and are no longer required:\r\n",
      "  dconf-gsettings-backend dconf-service dkms freeglut3 freeglut3-dev\r\n",
      "  glib-networking glib-networking-common glib-networking-services\r\n",
      "  gsettings-desktop-schemas libcairo-gobject2 libcolord2 libdconf1\r\n",
      "  libegl1-mesa libepoxy0 libglu1-mesa libglu1-mesa-dev libgtk-3-0\r\n",
      "  libgtk-3-common libice-dev libjansson4 libjson-glib-1.0-0\r\n",
      "  libjson-glib-1.0-common libproxy1v5 librest-0.7-0 libsm-dev\r\n",
      "  libsoup-gnome2.4-1 libsoup2.4-1 libxi-dev libxmu-dev libxmu-headers\r\n",
      "  libxnvctrl0 libxt-dev linux-gcp-headers-5.0.0-1026\r\n",
      "  linux-headers-5.0.0-1026-gcp linux-image-5.0.0-1026-gcp\r\n",
      "  linux-modules-5.0.0-1026-gcp pkg-config policykit-1-gnome python3-xkit\r\n",
      "  screen-resolution-extra xserver-xorg-core-hwe-18.04\r\n",
      "Use 'sudo apt autoremove' to remove them.\r\n",
      "0 upgraded, 0 newly installed, 0 to remove and 85 not upgraded.\r\n"
     ]
    }
   ],
   "source": [
    "!sudo apt-get install -y xvfb ffmpeg\n",
    "!pip install -q 'gym==0.10.11'\n",
    "!pip install -q 'imageio==2.4.0'\n",
    "!pip install -q PILLOW\n",
    "!pip install -q 'pyglet==1.3.2'\n",
    "!pip install -q pyvirtualdisplay\n",
    "!pip install -q tf-agents"
   ]
  },
  {
   "cell_type": "code",
   "execution_count": 3,
   "metadata": {
    "colab": {},
    "colab_type": "code",
    "id": "sMitx5qSgJk1"
   },
   "outputs": [],
   "source": [
    "from __future__ import absolute_import\n",
    "from __future__ import division\n",
    "from __future__ import print_function\n",
    "\n",
    "import base64\n",
    "import imageio\n",
    "import IPython\n",
    "import matplotlib\n",
    "import matplotlib.pyplot as plt\n",
    "import numpy as np\n",
    "import PIL.Image\n",
    "import pyvirtualdisplay\n",
    "\n",
    "import tensorflow as tf\n",
    "\n",
    "from tf_agents.agents.reinforce import reinforce_agent\n",
    "from tf_agents.drivers import dynamic_step_driver\n",
    "from tf_agents.environments import suite_gym\n",
    "from tf_agents.environments import tf_py_environment\n",
    "from tf_agents.eval import metric_utils\n",
    "from tf_agents.metrics import tf_metrics\n",
    "from tf_agents.networks import actor_distribution_network\n",
    "from tf_agents.replay_buffers import tf_uniform_replay_buffer\n",
    "from tf_agents.trajectories import trajectory\n",
    "from tf_agents.utils import common\n",
    "\n",
    "tf.compat.v1.enable_v2_behavior()\n",
    "\n",
    "\n",
    "# Set up a virtual display for rendering OpenAI gym environments.\n",
    "display = pyvirtualdisplay.Display(visible=0, size=(1400, 900)).start()"
   ]
  },
  {
   "cell_type": "markdown",
   "metadata": {
    "colab_type": "text",
    "id": "LmC0NDhdLIKY"
   },
   "source": [
    "## Hyperparameters"
   ]
  },
  {
   "cell_type": "code",
   "execution_count": 4,
   "metadata": {
    "colab": {},
    "colab_type": "code",
    "id": "HC1kNrOsLSIZ"
   },
   "outputs": [],
   "source": [
    "env_name = \"CartPole-v0\" # @param {type:\"string\"}\n",
    "num_iterations = 250 # @param {type:\"integer\"}\n",
    "collect_episodes_per_iteration = 2 # @param {type:\"integer\"}\n",
    "replay_buffer_capacity = 2000 # @param {type:\"integer\"}\n",
    "\n",
    "fc_layer_params = (100,)\n",
    "\n",
    "learning_rate = 1e-3 # @param {type:\"number\"}\n",
    "log_interval = 25 # @param {type:\"integer\"}\n",
    "num_eval_episodes = 10 # @param {type:\"integer\"}\n",
    "eval_interval = 50 # @param {type:\"integer\"}"
   ]
  },
  {
   "cell_type": "markdown",
   "metadata": {
    "colab_type": "text",
    "id": "VMsJC3DEgI0x"
   },
   "source": [
    "## Environment\n",
    "\n",
    "Environments in RL represent the task or problem that we are trying to solve. Standard environments can be easily created in TF-Agents using `suites`. We have different `suites` for loading environments from sources such as the OpenAI Gym, Atari, DM Control, etc., given a string environment name.\n",
    "\n",
    "Now let us load the CartPole environment from the OpenAI Gym suite."
   ]
  },
  {
   "cell_type": "code",
   "execution_count": 5,
   "metadata": {
    "colab": {},
    "colab_type": "code",
    "id": "pYEz-S9gEv2-"
   },
   "outputs": [],
   "source": [
    "env = suite_gym.load(env_name)"
   ]
  },
  {
   "cell_type": "markdown",
   "metadata": {
    "colab_type": "text",
    "id": "IIHYVBkuvPNw"
   },
   "source": [
    "We can render this environment to see how it looks. A free-swinging pole is attached to a cart.  The goal is to move the cart right or left in order to keep the pole pointing up."
   ]
  },
  {
   "cell_type": "code",
   "execution_count": 6,
   "metadata": {
    "colab": {},
    "colab_type": "code",
    "id": "RlO7WIQHu_7D"
   },
   "outputs": [
    {
     "data": {
      "image/png": "[encoded data removed]",
      "text/plain": [
       "<PIL.Image.Image image mode=RGB size=600x400 at 0x7F51A05BBA58>"
      ]
     },
     "execution_count": 6,
     "metadata": {},
     "output_type": "execute_result"
    }
   ],
   "source": [
    "#@test {\"skip\": true}\n",
    "env.reset()\n",
    "PIL.Image.fromarray(env.render())"
   ]
  },
  {
   "cell_type": "markdown",
   "metadata": {
    "colab_type": "text",
    "id": "B9_lskPOey18"
   },
   "source": [
    "The `time_step = environment.step(action)` statement takes `action` in the environment.  The `TimeStep` tuple returned contains the environment's next observation and reward for that action. The `time_step_spec()` and `action_spec()` methods in the environment return the specifications (types, shapes, bounds) of the `time_step` and `action` respectively."
   ]
  },
  {
   "cell_type": "code",
   "execution_count": 7,
   "metadata": {
    "colab": {},
    "colab_type": "code",
    "id": "exDv57iHfwQV"
   },
   "outputs": [
    {
     "name": "stdout",
     "output_type": "stream",
     "text": [
      "Observation Spec:\n",
      "BoundedArraySpec(shape=(4,), dtype=dtype('float32'), name='observation', minimum=[-4.8000002e+00 -3.4028235e+38 -4.1887903e-01 -3.4028235e+38], maximum=[4.8000002e+00 3.4028235e+38 4.1887903e-01 3.4028235e+38])\n",
      "Action Spec:\n",
      "BoundedArraySpec(shape=(), dtype=dtype('int64'), name='action', minimum=0, maximum=1)\n"
     ]
    }
   ],
   "source": [
    "print('Observation Spec:')\n",
    "print(env.time_step_spec().observation)\n",
    "print('Action Spec:')\n",
    "print(env.action_spec())"
   ]
  },
  {
   "cell_type": "markdown",
   "metadata": {
    "colab_type": "text",
    "id": "eJCgJnx3g0yY"
   },
   "source": [
    "So, we see that observation is an array of 4 floats: the position and velocity of the cart, and the angular position and velocity of the pole. Since only two actions are possible (move left or move right), the `action_spec` is a scalar where 0 means \"move left\" and 1 means \"move right.\""
   ]
  },
  {
   "cell_type": "code",
   "execution_count": 8,
   "metadata": {
    "colab": {},
    "colab_type": "code",
    "id": "V2UGR5t_iZX-"
   },
   "outputs": [
    {
     "name": "stdout",
     "output_type": "stream",
     "text": [
      "Time step:\n",
      "TimeStep(step_type=array(0, dtype=int32), reward=array(0., dtype=float32), discount=array(1., dtype=float32), observation=array([ 0.03506435, -0.04345531,  0.01258753,  0.00019599], dtype=float32))\n",
      "Next time step:\n",
      "TimeStep(step_type=array(1, dtype=int32), reward=array(1., dtype=float32), discount=array(1., dtype=float32), observation=array([ 0.03419525,  0.15148388,  0.01259145, -0.28848898], dtype=float32))\n"
     ]
    }
   ],
   "source": [
    "time_step = env.reset()\n",
    "print('Time step:')\n",
    "print(time_step)\n",
    "\n",
    "action = np.array(1, dtype=np.int32)\n",
    "\n",
    "next_time_step = env.step(action)\n",
    "print('Next time step:')\n",
    "print(next_time_step)"
   ]
  },
  {
   "cell_type": "markdown",
   "metadata": {
    "colab_type": "text",
    "id": "zuUqXAVmecTU"
   },
   "source": [
    "Usually we create two environments: one for training and one for evaluation. Most environments are written in pure python, but they can be easily converted to TensorFlow using the `TFPyEnvironment` wrapper. The original environment's API uses numpy arrays, the `TFPyEnvironment` converts these to/from `Tensors` for you to more easily interact with TensorFlow policies and agents.\n"
   ]
  },
  {
   "cell_type": "code",
   "execution_count": 9,
   "metadata": {
    "colab": {},
    "colab_type": "code",
    "id": "Xp-Y4mD6eDhF"
   },
   "outputs": [],
   "source": [
    "train_py_env = suite_gym.load(env_name)\n",
    "eval_py_env = suite_gym.load(env_name)\n",
    "\n",
    "train_env = tf_py_environment.TFPyEnvironment(train_py_env)\n",
    "eval_env = tf_py_environment.TFPyEnvironment(eval_py_env)"
   ]
  },
  {
   "cell_type": "markdown",
   "metadata": {
    "colab_type": "text",
    "id": "E9lW_OZYFR8A"
   },
   "source": [
    "## Agent\n",
    "\n",
    "The algorithm that we use to solve an RL problem is represented as an `Agent`. In addition to the REINFORCE agent, TF-Agents provides standard implementations of a variety of `Agents` such as [DQN](https://storage.googleapis.com/deepmind-media/dqn/DQNNaturePaper.pdf), [DDPG](https://arxiv.org/pdf/1509.02971.pdf), [TD3](https://arxiv.org/pdf/1802.09477.pdf), [PPO](https://arxiv.org/abs/1707.06347) and [SAC](https://arxiv.org/abs/1801.01290).\n",
    "\n",
    "To create a REINFORCE Agent, we first need an `Actor Network` that can learn to predict the action given an observation from the environment.\n",
    "\n",
    "We can easily create an `Actor Network` using the specs of the observations and actions. We can specify the layers in the network which, in this example, is the `fc_layer_params` argument set to a tuple of `ints` representing the sizes of each hidden layer (see the Hyperparameters section above).\n"
   ]
  },
  {
   "cell_type": "code",
   "execution_count": 10,
   "metadata": {
    "colab": {},
    "colab_type": "code",
    "id": "TgkdEPg_muzV"
   },
   "outputs": [],
   "source": [
    "actor_net = actor_distribution_network.ActorDistributionNetwork(\n",
    "    train_env.observation_spec(),\n",
    "    train_env.action_spec(),\n",
    "    fc_layer_params=fc_layer_params)"
   ]
  },
  {
   "cell_type": "markdown",
   "metadata": {
    "colab_type": "text",
    "id": "z62u55hSmviJ"
   },
   "source": [
    "We also need an `optimizer` to train the network we just created, and a `train_step_counter` variable to keep track of how many times the network was updated.\n"
   ]
  },
  {
   "cell_type": "code",
   "execution_count": 11,
   "metadata": {
    "colab": {},
    "colab_type": "code",
    "id": "jbY4yrjTEyc9"
   },
   "outputs": [],
   "source": [
    "optimizer = tf.compat.v1.train.AdamOptimizer(learning_rate=learning_rate)\n",
    "\n",
    "train_step_counter = tf.compat.v2.Variable(0)\n",
    "\n",
    "tf_agent = reinforce_agent.ReinforceAgent(\n",
    "    train_env.time_step_spec(),\n",
    "    train_env.action_spec(),\n",
    "    actor_network=actor_net,\n",
    "    optimizer=optimizer,\n",
    "    normalize_returns=True,\n",
    "    train_step_counter=train_step_counter)\n",
    "tf_agent.initialize()"
   ]
  },
  {
   "cell_type": "markdown",
   "metadata": {
    "colab_type": "text",
    "id": "I0KLrEPwkn5x"
   },
   "source": [
    "## Policies\n",
    "\n",
    "In TF-Agents, policies represent the standard notion of policies in RL: given a `time_step` produce an action or a distribution over actions. The main method is `policy_step = policy.step(time_step)` where `policy_step` is a named tuple `PolicyStep(action, state, info)`.  The `policy_step.action` is the `action` to be applied to the environment, `state` represents the state for stateful (RNN) policies and `info` may contain auxiliary information such as log probabilities of the actions.\n",
    "\n",
    "Agents contain two policies: the main policy that is used for evaluation/deployment (agent.policy) and another policy that is used for data collection (agent.collect_policy)."
   ]
  },
  {
   "cell_type": "code",
   "execution_count": 12,
   "metadata": {
    "colab": {},
    "colab_type": "code",
    "id": "BwY7StuMkuV4"
   },
   "outputs": [],
   "source": [
    "eval_policy = tf_agent.policy\n",
    "collect_policy = tf_agent.collect_policy"
   ]
  },
  {
   "cell_type": "markdown",
   "metadata": {
    "colab_type": "text",
    "id": "94rCXQtbUbXv"
   },
   "source": [
    "## Metrics and Evaluation\n",
    "\n",
    "The most common metric used to evaluate a policy is the average return. The return is the sum of rewards obtained while running a policy in an environment for an episode, and we usually average this over a few episodes. We can compute the average return metric as follows.\n"
   ]
  },
  {
   "cell_type": "code",
   "execution_count": 13,
   "metadata": {
    "colab": {},
    "colab_type": "code",
    "id": "bitzHo5_UbXy"
   },
   "outputs": [],
   "source": [
    "#@test {\"skip\": true}\n",
    "def compute_avg_return(environment, policy, num_episodes=10):\n",
    "\n",
    "  total_return = 0.0\n",
    "  for _ in range(num_episodes):\n",
    "\n",
    "    time_step = environment.reset()\n",
    "    episode_return = 0.0\n",
    "\n",
    "    while not time_step.is_last():\n",
    "      action_step = policy.action(time_step)\n",
    "      time_step = environment.step(action_step.action)\n",
    "      episode_return += time_step.reward\n",
    "    total_return += episode_return\n",
    "\n",
    "  avg_return = total_return / num_episodes\n",
    "  return avg_return.numpy()[0]\n",
    "\n",
    "\n",
    "# Please also see the metrics module for standard implementations of different\n",
    "# metrics."
   ]
  },
  {
   "cell_type": "markdown",
   "metadata": {
    "colab_type": "text",
    "id": "NLva6g2jdWgr"
   },
   "source": [
    "## Replay Buffer\n",
    "\n",
    "In order to keep track of the data collected from the environment, we will use the TFUniformReplayBuffer. This replay buffer is constructed using specs describing the tensors that are to be stored, which can be obtained from the agent using `tf_agent.collect_data_spec`."
   ]
  },
  {
   "cell_type": "code",
   "execution_count": 14,
   "metadata": {
    "colab": {},
    "colab_type": "code",
    "id": "vX2zGUWJGWAl"
   },
   "outputs": [],
   "source": [
    "replay_buffer = tf_uniform_replay_buffer.TFUniformReplayBuffer(\n",
    "    data_spec=tf_agent.collect_data_spec,\n",
    "    batch_size=train_env.batch_size,\n",
    "    max_length=replay_buffer_capacity)"
   ]
  },
  {
   "cell_type": "markdown",
   "metadata": {
    "colab_type": "text",
    "id": "ZGNTDJpZs4NN"
   },
   "source": [
    "For most agents, the `collect_data_spec` is a `Trajectory` named tuple containing the observation, action, reward etc."
   ]
  },
  {
   "cell_type": "markdown",
   "metadata": {
    "colab_type": "text",
    "id": "rVD5nQ9ZGo8_"
   },
   "source": [
    "## Data Collection\n",
    "\n",
    "As REINFORCE learns from whole episodes, we define a function to collect an episode using the given data collection policy and save the data (observations, actions, rewards etc.) as trajectories in the replay buffer."
   ]
  },
  {
   "cell_type": "code",
   "execution_count": 15,
   "metadata": {
    "colab": {},
    "colab_type": "code",
    "id": "wr1KSAEGG4h9"
   },
   "outputs": [],
   "source": [
    "#@test {\"skip\": true}\n",
    "\n",
    "def collect_episode(environment, policy, num_episodes):\n",
    "\n",
    "  episode_counter = 0\n",
    "  environment.reset()\n",
    "\n",
    "  while episode_counter < num_episodes:\n",
    "    time_step = environment.current_time_step()\n",
    "    action_step = policy.action(time_step)\n",
    "    next_time_step = environment.step(action_step.action)\n",
    "    traj = trajectory.from_transition(time_step, action_step, next_time_step)\n",
    "\n",
    "    # Add trajectory to the replay buffer\n",
    "    replay_buffer.add_batch(traj)\n",
    "\n",
    "    if traj.is_boundary():\n",
    "      episode_counter += 1\n",
    "\n",
    "\n",
    "# This loop is so common in RL, that we provide standard implementations of\n",
    "# these. For more details see the drivers module."
   ]
  },
  {
   "cell_type": "markdown",
   "metadata": {
    "colab_type": "text",
    "id": "hBc9lj9VWWtZ"
   },
   "source": [
    "## Training the agent\n",
    "\n",
    "The training loop involves both collecting data from the environment and optimizing the agent's networks. Along the way, we will occasionally evaluate the agent's policy to see how we are doing.\n",
    "\n",
    "The following will take ~3 minutes to run."
   ]
  },
  {
   "cell_type": "code",
   "execution_count": 16,
   "metadata": {
    "colab": {},
    "colab_type": "code",
    "id": "0pTbJ3PeyF-u"
   },
   "outputs": [
    {
     "name": "stdout",
     "output_type": "stream",
     "text": [
      "WARNING:tensorflow:From <ipython-input-16-235ae48023f9>:24: ReplayBuffer.gather_all (from tf_agents.replay_buffers.replay_buffer) is deprecated and will be removed in a future version.\n",
      "Instructions for updating:\n",
      "Use `as_dataset(..., single_deterministic_pass=True)` instead.\n"
     ]
    },
    {
     "name": "stdout",
     "output_type": "stream",
     "text": [
      "step = 25: loss = 0.14318394660949707\n"
     ]
    },
    {
     "name": "stdout",
     "output_type": "stream",
     "text": [
      "step = 50: loss = -0.5732654333114624\n"
     ]
    },
    {
     "name": "stdout",
     "output_type": "stream",
     "text": [
      "step = 50: Average Return = 61.70000076293945\n"
     ]
    },
    {
     "name": "stdout",
     "output_type": "stream",
     "text": [
      "step = 75: loss = 0.4367893934249878\n"
     ]
    },
    {
     "name": "stdout",
     "output_type": "stream",
     "text": [
      "step = 100: loss = -1.1474390029907227\n"
     ]
    },
    {
     "name": "stdout",
     "output_type": "stream",
     "text": [
      "step = 100: Average Return = 79.0999984741211\n"
     ]
    },
    {
     "name": "stdout",
     "output_type": "stream",
     "text": [
      "step = 125: loss = 0.8831806182861328\n"
     ]
    },
    {
     "name": "stdout",
     "output_type": "stream",
     "text": [
      "step = 150: loss = -0.050168514251708984\n"
     ]
    },
    {
     "name": "stdout",
     "output_type": "stream",
     "text": [
      "step = 150: Average Return = 184.10000610351562\n"
     ]
    },
    {
     "name": "stdout",
     "output_type": "stream",
     "text": [
      "step = 175: loss = 0.9362773895263672\n"
     ]
    },
    {
     "name": "stdout",
     "output_type": "stream",
     "text": [
      "step = 200: loss = -1.2963881492614746\n"
     ]
    },
    {
     "name": "stdout",
     "output_type": "stream",
     "text": [
      "step = 200: Average Return = 200.0\n"
     ]
    },
    {
     "name": "stdout",
     "output_type": "stream",
     "text": [
      "step = 225: loss = -1.6973439455032349\n"
     ]
    },
    {
     "name": "stdout",
     "output_type": "stream",
     "text": [
      "step = 250: loss = -3.887733221054077\n"
     ]
    },
    {
     "name": "stdout",
     "output_type": "stream",
     "text": [
      "step = 250: Average Return = 200.0\n"
     ]
    }
   ],
   "source": [
    "#@test {\"skip\": true}\n",
    "try:\n",
    "  %%time\n",
    "except:\n",
    "  pass\n",
    "\n",
    "# (Optional) Optimize by wrapping some of the code in a graph using TF function.\n",
    "tf_agent.train = common.function(tf_agent.train)\n",
    "\n",
    "# Reset the train step\n",
    "tf_agent.train_step_counter.assign(0)\n",
    "\n",
    "# Evaluate the agent's policy once before training.\n",
    "avg_return = compute_avg_return(eval_env, tf_agent.policy, num_eval_episodes)\n",
    "returns = [avg_return]\n",
    "\n",
    "for _ in range(num_iterations):\n",
    "\n",
    "  # Collect a few episodes using collect_policy and save to the replay buffer.\n",
    "  collect_episode(\n",
    "      train_env, tf_agent.collect_policy, collect_episodes_per_iteration)\n",
    "\n",
    "  # Use data from the buffer and update the agent's network.\n",
    "  experience = replay_buffer.gather_all()\n",
    "  train_loss = tf_agent.train(experience)\n",
    "  replay_buffer.clear()\n",
    "\n",
    "  step = tf_agent.train_step_counter.numpy()\n",
    "\n",
    "  if step % log_interval == 0:\n",
    "    print('step = {0}: loss = {1}'.format(step, train_loss.loss))\n",
    "\n",
    "  if step % eval_interval == 0:\n",
    "    avg_return = compute_avg_return(eval_env, tf_agent.policy, num_eval_episodes)\n",
    "    print('step = {0}: Average Return = {1}'.format(step, avg_return))\n",
    "    returns.append(avg_return)"
   ]
  },
  {
   "cell_type": "markdown",
   "metadata": {
    "colab_type": "text",
    "id": "68jNcA_TiJDq"
   },
   "source": [
    "## Visualization\n"
   ]
  },
  {
   "cell_type": "markdown",
   "metadata": {
    "colab_type": "text",
    "id": "aO-LWCdbbOIC"
   },
   "source": [
    "### Plots\n",
    "\n",
    "We can plot return vs global steps to see the performance of our agent. In `Cartpole-v0`, the environment gives a reward of +1 for every time step the pole stays up, and since the maximum number of steps is 200, the maximum possible return is also 200."
   ]
  },
  {
   "cell_type": "code",
   "execution_count": 17,
   "metadata": {
    "colab": {},
    "colab_type": "code",
    "id": "NxtL1mbOYCVO"
   },
   "outputs": [
    {
     "data": {
      "text/plain": [
       "(5.855000400543213, 250.0)"
      ]
     },
     "execution_count": 17,
     "metadata": {},
     "output_type": "execute_result"
    },
    {
     "data": {
      "image/png": "[encoded data removed]",
      "text/plain": [
       "<Figure size 432x288 with 1 Axes>"
      ]
     },
     "metadata": {
      "needs_background": "light"
     },
     "output_type": "display_data"
    }
   ],
   "source": [
    "#@test {\"skip\": true}\n",
    "\n",
    "steps = range(0, num_iterations + 1, eval_interval)\n",
    "plt.plot(steps, returns)\n",
    "plt.ylabel('Average Return')\n",
    "plt.xlabel('Step')\n",
    "plt.ylim(top=250)"
   ]
  },
  {
   "cell_type": "markdown",
   "metadata": {
    "colab_type": "text",
    "id": "M7-XpPP99Cy7"
   },
   "source": [
    "### Videos"
   ]
  },
  {
   "cell_type": "markdown",
   "metadata": {
    "colab_type": "text",
    "id": "9pGfGxSH32gn"
   },
   "source": [
    "It is helpful to visualize the performance of an agent by rendering the environment at each step. Before we do that, let us first create a function to embed videos in this colab."
   ]
  },
  {
   "cell_type": "code",
   "execution_count": 18,
   "metadata": {
    "colab": {},
    "colab_type": "code",
    "id": "ULaGr8pvOKbl"
   },
   "outputs": [],
   "source": [
    "def embed_mp4(filename):\n",
    "  \"\"\"Embeds an mp4 file in the notebook.\"\"\"\n",
    "  video = open(filename,'rb').read()\n",
    "  b64 = base64.b64encode(video)\n",
    "  tag = '''\n",
    "  <video width=\"640\" height=\"480\" controls>\n",
    "    <source src=\"data:video/mp4;base64,{0}\" type=\"video/mp4\">\n",
    "  Your browser does not support the video tag.\n",
    "  </video>'''.format(b64.decode())\n",
    "\n",
    "  return IPython.display.HTML(tag)"
   ]
  },
  {
   "cell_type": "markdown",
   "metadata": {
    "colab_type": "text",
    "id": "9c_PH-pX4Pr5"
   },
   "source": [
    "The following code visualizes the agent's policy for a few episodes:"
   ]
  },
  {
   "cell_type": "code",
   "execution_count": 19,
   "metadata": {
    "colab": {},
    "colab_type": "code",
    "id": "owOVWB158NlF"
   },
   "outputs": [
    {
     "name": "stderr",
     "output_type": "stream",
     "text": [
      "WARNING:root:IMAGEIO FFMPEG_WRITER WARNING: input image is not divisible by macro_block_size=16, resizing from (400, 600) to (400, 608) to ensure video compatibility with most codecs and players. To prevent resizing, make your input image divisible by the macro_block_size or set the macro_block_size to None (risking incompatibility). You may also see a FFMPEG warning concerning speedloss due to data not being aligned.\n"
     ]
    },
    {
     "data": {
      "text/html": [
       "\n",
       "  <video width=\"640\" height=\"480\" controls>\n",
       "    <source src=\"data:video/mp4;base64,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\" type=\"video/mp4\">\n",
       "  Your browser does not support the video tag.\n",
       "  </video>"
      ],
      "text/plain": [
       "<IPython.core.display.HTML object>"
      ]
     },
     "execution_count": 19,
     "metadata": {},
     "output_type": "execute_result"
    }
   ],
   "source": [
    "num_episodes = 3\n",
    "video_filename = 'imageio.mp4'\n",
    "with imageio.get_writer(video_filename, fps=60) as video:\n",
    "  for _ in range(num_episodes):\n",
    "    time_step = eval_env.reset()\n",
    "    video.append_data(eval_py_env.render())\n",
    "    while not time_step.is_last():\n",
    "      action_step = tf_agent.policy.action(time_step)\n",
    "      time_step = eval_env.step(action_step.action)\n",
    "      video.append_data(eval_py_env.render())\n",
    "\n",
    "embed_mp4(video_filename)"
   ]
  }
 ],
 "metadata": {
  "accelerator": "GPU",
  "colab": {
   "collapsed_sections": [],
   "name": "REINFORCE Tutorial.ipynb",
   "private_outputs": true,
   "provenance": [],
   "toc_visible": true
  },
  "kernelspec": {
   "display_name": "Python 3",
   "language": "python",
   "name": "python3"
  },
  "language_info": {
   "codemirror_mode": {
    "name": "ipython",
    "version": 3
   },
   "file_extension": ".py",
   "mimetype": "text/x-python",
   "name": "python",
   "nbconvert_exporter": "python",
   "pygments_lexer": "ipython3",
   "version": "3.6.9"
  },
  "pycharm": {
   "stem_cell": {
    "cell_type": "raw",
    "metadata": {
     "collapsed": false
    },
    "source": []
   }
  }
 },
 "nbformat": 4,
 "nbformat_minor": 0
}
